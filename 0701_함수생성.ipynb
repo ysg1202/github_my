{
  "nbformat": 4,
  "nbformat_minor": 0,
  "metadata": {
    "colab": {
      "provenance": [],
      "authorship_tag": "ABX9TyOzgqlKS4lDnvqxydhwv6Ks",
      "include_colab_link": true
    },
    "kernelspec": {
      "name": "python3",
      "display_name": "Python 3"
    },
    "language_info": {
      "name": "python"
    }
  },
  "cells": [
    {
      "cell_type": "markdown",
      "metadata": {
        "id": "view-in-github",
        "colab_type": "text"
      },
      "source": [
        "<a href=\"https://colab.research.google.com/github/ysg1202/github_my/blob/main/0701_%ED%95%A8%EC%88%98%EC%83%9D%EC%84%B1.ipynb\" target=\"_parent\"><img src=\"https://colab.research.google.com/assets/colab-badge.svg\" alt=\"Open In Colab\"/></a>"
      ]
    },
    {
      "cell_type": "markdown",
      "source": [
        "1번 https://claude.ai/public/artifacts/ecfa16b4-2106-4e7b-a637-a17f20eb3126"
      ],
      "metadata": {
        "id": "NcJYOV02ZTbF"
      }
    },
    {
      "cell_type": "code",
      "execution_count": 8,
      "metadata": {
        "colab": {
          "base_uri": "https://localhost:8080/"
        },
        "id": "i0WF_OTXZNCZ",
        "outputId": "b92b9ab8-48bf-402e-8ae9-4abfccc28f46"
      },
      "outputs": [
        {
          "output_type": "stream",
          "name": "stdout",
          "text": [
            "정상작동\n",
            "{'앞': 8.0, '왼쪽': 15.0, '오른쪽': 4.0}\n"
          ]
        }
      ],
      "source": [
        "def init_sensors():\n",
        "    sensors = {\n",
        "    \"앞\": 8.0,\n",
        "    \"왼쪽\": 15.0,\n",
        "    \"오른쪽\": 4.0\n",
        "    }\n",
        "\n",
        "    print(\"정상작동\")\n",
        "    return sensors\n",
        "\n",
        "sensor = init_sensors()\n",
        "print(sensor)"
      ]
    },
    {
      "cell_type": "markdown",
      "source": [
        "2번 https://claude.ai/public/artifacts/2bacfb57-fa54-46bf-bd52-f4d858b045a4\n"
      ],
      "metadata": {
        "id": "TgZX20E2bikR"
      }
    },
    {
      "cell_type": "code",
      "source": [
        "def scan_front(x, y, obstacles, sensors):\n",
        "    print(\"앞쪽 스캔 시작\")\n",
        "\n",
        "    if (x, y + 1) in obstacles:\n",
        "        print(\"앞쪽 1칸 장애물 발견\")\n",
        "        sensors[\"앞\"] = 1.0\n",
        "\n",
        "    elif (x, y + 2) in obstacles:\n",
        "        sensors[\"앞\"] = 2.0\n",
        "        print(\"앞쪽 2칸 장애물 발견\")\n",
        "\n",
        "    elif (x, y + 3) in obstacles:\n",
        "        print(\"앞쪽 3칸 장애물 발견\")\n",
        "        sensors[\"앞\"] = 3.0\n",
        "\n",
        "    else:\n",
        "        print(\"앞쪽 장애물 없음\", \"센서값 15.0유지\")\n",
        "        sensors[\"앞\"] = 15.0\n",
        "\n",
        "    print(\"앞쪽 스캔 종료\")"
      ],
      "metadata": {
        "id": "ClMfYBoibkV9"
      },
      "execution_count": 15,
      "outputs": []
    },
    {
      "cell_type": "markdown",
      "source": [
        "3번 https://claude.ai/public/artifacts/2bacfb57-fa54-46bf-bd52-f4d858b045a4"
      ],
      "metadata": {
        "id": "AMhO_ek6iEcy"
      }
    },
    {
      "cell_type": "code",
      "source": [
        "def scan_left(x, y, obstacles, sensors):\n",
        "    print(\"왼쪽 스캔 시작\")\n",
        "\n",
        "    if (x - 1, y) in obstacles:\n",
        "        print(\"왼쪽 1칸 장애물 발견\")\n",
        "        sensors[\"왼쪽\"] = 1.0\n",
        "\n",
        "    elif (x - 2, y) in obstacles:\n",
        "        sensors[\"왼쪽\"] = 2.0\n",
        "        print(\"왼쪽 2칸 장애물 발견\")\n",
        "\n",
        "    elif (x - 3, y) in obstacles:\n",
        "        print(\"왼쪽 3칸 장애물 발견\")\n",
        "        sensors[\"왼쪽\"] = 3.0\n",
        "\n",
        "    else:\n",
        "        print(\"왼쪽 장애물 없음\", \"센서값 15.0유지\")\n",
        "        sensors[\"왼쪽\"] = 15.0\n",
        "\n",
        "    print(\"왼쪽 스캔 종료\")\n",
        "\n",
        "\n"
      ],
      "metadata": {
        "id": "KX50gbOWiHE_"
      },
      "execution_count": 16,
      "outputs": []
    },
    {
      "cell_type": "markdown",
      "source": [
        "4번 https://claude.ai/public/artifacts/2bacfb57-fa54-46bf-bd52-f4d858b045a4"
      ],
      "metadata": {
        "id": "of8h_31wp4Uc"
      }
    },
    {
      "cell_type": "code",
      "source": [
        "def scan_right(x, y, obstacles, sensors):\n",
        "    print(\"오른쪽 스캔 시작\")\n",
        "\n",
        "    if (x + 1, y) in obstacles:\n",
        "        print(\"오른쪽 1칸 장애물 발견\")\n",
        "        sensors[\"오른쪽\"] = 1.0\n",
        "\n",
        "    elif (x + 2, y) in obstacles:\n",
        "        sensors[\"오른쪽\"] = 2.0\n",
        "        print(\"오른쪽 2칸 장애물 발견\")\n",
        "\n",
        "    elif (x + 3, y) in obstacles:\n",
        "        print(\"오른쪽 3칸 장애물 발견\")\n",
        "        sensors[\"오른쪽\"] = 3.0\n",
        "\n",
        "    else:\n",
        "        print(\"오른쪽 장애물 없음\", \"센서값 15.0유지\")\n",
        "        sensors[\"오른쪽\"] = 15.0\n",
        "\n",
        "    print(\"오른쪽 스캔 종료\")"
      ],
      "metadata": {
        "id": "BK3TZFXlp5l_"
      },
      "execution_count": 19,
      "outputs": []
    },
    {
      "cell_type": "markdown",
      "source": [
        "5번 https://claude.ai/public/artifacts/0071fea5-0417-4ac3-b753-5e47ea108c2a"
      ],
      "metadata": {
        "id": "FvQ8kGQcoURe"
      }
    },
    {
      "cell_type": "code",
      "source": [
        "def update_sensor_data(position, obstacles):\n",
        "    print(\"센서 업데이트 시작\")\n",
        "\n",
        "    x = position[x]\n",
        "    y = position[y]\n",
        "    print(\"위치 추출 완료\")\n",
        "    print(f\"현재 x값:{x}, 현재 y값:{y}\")\n",
        "\n",
        "    sensors = init_sensors()\n",
        "    sensors[\"앞\"] = 15.0\n",
        "    sensors[\"왼쪽\"] = 15.0\n",
        "    sensors[\"오른쪽\"] = 15.0\n",
        "\n",
        "    scan_front(x, y, obstacles, sensors)\n",
        "    scan_left(x, y, obstacles, sensors)\n",
        "    scan_right(x, y, obstacles, sensors)\n",
        "\n",
        "    print(\"센서 데이터 업데이트 완료\")\n",
        "    print(sensors)\n",
        "\n",
        "    return sensors"
      ],
      "metadata": {
        "id": "LsXe1jJeoWNY"
      },
      "execution_count": 28,
      "outputs": []
    },
    {
      "cell_type": "markdown",
      "source": [
        "6번 https://claude.ai/public/artifacts/27051f81-4a36-4075-8d2b-ec7199d9a7fb"
      ],
      "metadata": {
        "id": "3RHbZ8movZbI"
      }
    },
    {
      "cell_type": "code",
      "source": [
        "safe_distance = 5\n",
        "\n",
        "def detect_obstacles(sensors, safe_distance):\n",
        "    print(\"장애물 감지 시작\")\n",
        "\n",
        "    print(\"sensors:\", sensors)\n",
        "    print(\"safe_distance:\", safe_distance)\n",
        "\n",
        "    obstacles = []\n",
        "\n",
        "    for direction, distance in sensors.items():\n",
        "        print(f\"현재 방향:{direction}, 현재 거리{distance}\")\n",
        "\n",
        "        if distance < safe_distance:\n",
        "            obstacles.append(direction)\n",
        "            print(\"위험!\", \"목록에 추가됨\")\n",
        "\n",
        "        else:\n",
        "            print(\"안전함\")\n",
        "\n",
        "    print(\"장애물 감지 완료\")\n",
        "    print(obstacles)\n",
        "\n",
        "    return obstacles"
      ],
      "metadata": {
        "id": "Ak5o6N6Ovas9"
      },
      "execution_count": 35,
      "outputs": []
    },
    {
      "cell_type": "markdown",
      "source": [
        "7번 https://claude.ai/public/artifacts/13112488-2160-4216-8845-4187a58f746c"
      ],
      "metadata": {
        "id": "Nr-Zb2OZzSsB"
      }
    },
    {
      "cell_type": "code",
      "source": [
        "def decide_direction(obstacles):\n",
        "    if len(obstacles) == 0:\n",
        "        action = \"직진\"\n",
        "\n",
        "    elif \"앞\" in obstacles:\n",
        "        print(\"앞에 장애물 있음, 좌우 확인\")\n",
        "\n",
        "        if \"왼쪽\" not in obstacles:\n",
        "            action = \"좌회전\"\n",
        "            print(\"왼쪽 안전\")\n",
        "\n",
        "\n",
        "\n",
        "\n",
        ""
      ],
      "metadata": {
        "id": "MKLyM7BvzUJa"
      },
      "execution_count": 39,
      "outputs": []
    },
    {
      "cell_type": "markdown",
      "source": [
        "8번 https://claude.ai/public/artifacts/6ddac9ec-2dba-456b-bb09-bf6e277a8a06"
      ],
      "metadata": {
        "id": "_XBXqB1v2sfz"
      }
    },
    {
      "cell_type": "code",
      "source": [],
      "metadata": {
        "id": "5z44t8Vs2zK1"
      },
      "execution_count": null,
      "outputs": []
    },
    {
      "cell_type": "markdown",
      "source": [
        "9번 https://claude.ai/public/artifacts/76eafd8d-4d90-437d-be19-5bf67c275500"
      ],
      "metadata": {
        "id": "A0AcNx2D2zh5"
      }
    },
    {
      "cell_type": "code",
      "source": [],
      "metadata": {
        "id": "cuPuMCzJ24Hx"
      },
      "execution_count": null,
      "outputs": []
    }
  ]
}