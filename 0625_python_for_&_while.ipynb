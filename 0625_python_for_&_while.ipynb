{
  "nbformat": 4,
  "nbformat_minor": 0,
  "metadata": {
    "colab": {
      "provenance": [],
      "authorship_tag": "ABX9TyMsJZDhawa02X39tmohBsew",
      "include_colab_link": true
    },
    "kernelspec": {
      "name": "python3",
      "display_name": "Python 3"
    },
    "language_info": {
      "name": "python"
    }
  },
  "cells": [
    {
      "cell_type": "markdown",
      "metadata": {
        "id": "view-in-github",
        "colab_type": "text"
      },
      "source": [
        "<a href=\"https://colab.research.google.com/github/ysg1202/github_my/blob/main/0625_python_for_%26_while.ipynb\" target=\"_parent\"><img src=\"https://colab.research.google.com/assets/colab-badge.svg\" alt=\"Open In Colab\"/></a>"
      ]
    },
    {
      "cell_type": "markdown",
      "source": [
        "**for 루프**"
      ],
      "metadata": {
        "id": "neHnjRkx3rmY"
      }
    },
    {
      "cell_type": "code",
      "execution_count": 1,
      "metadata": {
        "colab": {
          "base_uri": "https://localhost:8080/"
        },
        "id": "dMj9nHjj3gas",
        "outputId": "1f09de8b-bbe5-44ac-e01e-56922d8b6d96"
      },
      "outputs": [
        {
          "output_type": "stream",
          "name": "stdout",
          "text": [
            "apple\n",
            "banana\n",
            "cherry\n"
          ]
        }
      ],
      "source": [
        "fruits = [\"apple\", \"banana\", \"cherry\"]\n",
        "for x in fruits:\n",
        "  print(x)"
      ]
    },
    {
      "cell_type": "markdown",
      "source": [
        "**문자열 순회**"
      ],
      "metadata": {
        "id": "O1mPCmtm35y4"
      }
    },
    {
      "cell_type": "code",
      "source": [
        "for x in \"banana\":\n",
        "  print(x)"
      ],
      "metadata": {
        "colab": {
          "base_uri": "https://localhost:8080/"
        },
        "id": "Z5-Oknja33iJ",
        "outputId": "cd845c5a-7251-447e-9841-bddc04d187d3"
      },
      "execution_count": 2,
      "outputs": [
        {
          "output_type": "stream",
          "name": "stdout",
          "text": [
            "b\n",
            "a\n",
            "n\n",
            "a\n",
            "n\n",
            "a\n"
          ]
        }
      ]
    },
    {
      "cell_type": "markdown",
      "source": [
        "**for문 안의 조건문1**"
      ],
      "metadata": {
        "id": "bLq0UbAf39pk"
      }
    },
    {
      "cell_type": "code",
      "source": [
        "fruits = [\"apple\", \"banana\", \"cherry\"]\n",
        "for x in fruits:\n",
        "  print(x)\n",
        "  if x == \"banana\":\n",
        "    break"
      ],
      "metadata": {
        "colab": {
          "base_uri": "https://localhost:8080/"
        },
        "id": "MJ9y26Oo4CL3",
        "outputId": "17609a9b-573b-4bae-9fc8-ce6c4d0b331f"
      },
      "execution_count": 3,
      "outputs": [
        {
          "output_type": "stream",
          "name": "stdout",
          "text": [
            "apple\n",
            "banana\n"
          ]
        }
      ]
    },
    {
      "cell_type": "markdown",
      "source": [
        "**for문 안의 조건문2**"
      ],
      "metadata": {
        "id": "yhnlFBBM4NrY"
      }
    },
    {
      "cell_type": "code",
      "source": [
        "fruits = [\"apple\", \"banana\", \"cherry\"]\n",
        "for x in fruits:\n",
        "  if x == \"banana\":\n",
        "    break\n",
        "  print(x)"
      ],
      "metadata": {
        "colab": {
          "base_uri": "https://localhost:8080/"
        },
        "id": "CNdMvj9q4Lvw",
        "outputId": "15866d0e-f125-48fc-bff8-4c74c1459c02"
      },
      "execution_count": 4,
      "outputs": [
        {
          "output_type": "stream",
          "name": "stdout",
          "text": [
            "apple\n"
          ]
        }
      ]
    },
    {
      "cell_type": "markdown",
      "source": [
        "**continue 문**"
      ],
      "metadata": {
        "id": "SoIcQQ3a4ZXU"
      }
    },
    {
      "cell_type": "code",
      "source": [
        "fruits = [\"apple\", \"banana\", \"cherry\"]\n",
        "for x in fruits:\n",
        "  if x == \"banana\":\n",
        "    continue\n",
        "  print(x)"
      ],
      "metadata": {
        "colab": {
          "base_uri": "https://localhost:8080/"
        },
        "id": "Um36swaO4cVS",
        "outputId": "9bbdd67a-d68d-4ae3-f7d8-445eb9c31be8"
      },
      "execution_count": 5,
      "outputs": [
        {
          "output_type": "stream",
          "name": "stdout",
          "text": [
            "apple\n",
            "cherry\n"
          ]
        }
      ]
    },
    {
      "cell_type": "markdown",
      "source": [
        "**range() 함수**"
      ],
      "metadata": {
        "id": "B-NDe3Se4jLY"
      }
    },
    {
      "cell_type": "code",
      "source": [
        "for x in range(6):\n",
        "  print(x)"
      ],
      "metadata": {
        "colab": {
          "base_uri": "https://localhost:8080/"
        },
        "id": "jqQY-9Dp4nBK",
        "outputId": "404159a5-9f6b-4747-9a2c-7aad92fab4cf"
      },
      "execution_count": 6,
      "outputs": [
        {
          "output_type": "stream",
          "name": "stdout",
          "text": [
            "0\n",
            "1\n",
            "2\n",
            "3\n",
            "4\n",
            "5\n"
          ]
        }
      ]
    },
    {
      "cell_type": "markdown",
      "source": [
        "**range() 함수 파라미터**"
      ],
      "metadata": {
        "id": "mDr8cezN4q4E"
      }
    },
    {
      "cell_type": "code",
      "source": [
        "for x in range(2, 30, 3):\n",
        "  print(x)"
      ],
      "metadata": {
        "colab": {
          "base_uri": "https://localhost:8080/"
        },
        "id": "9Sp0Y6174wb_",
        "outputId": "2f11790f-c8bb-41fd-b756-e9e65e35e175"
      },
      "execution_count": 7,
      "outputs": [
        {
          "output_type": "stream",
          "name": "stdout",
          "text": [
            "2\n",
            "5\n",
            "8\n",
            "11\n",
            "14\n",
            "17\n",
            "20\n",
            "23\n",
            "26\n",
            "29\n"
          ]
        }
      ]
    },
    {
      "cell_type": "markdown",
      "source": [
        "**for 루프의 else1**"
      ],
      "metadata": {
        "id": "jhekvcz040An"
      }
    },
    {
      "cell_type": "code",
      "source": [
        "for x in range(6):\n",
        "  print(x)\n",
        "else:\n",
        "  print(\"Finally finished!\")"
      ],
      "metadata": {
        "colab": {
          "base_uri": "https://localhost:8080/"
        },
        "id": "zpWTbd8d43gt",
        "outputId": "809d07f3-f4ec-49df-8ad6-0b186ab07072"
      },
      "execution_count": 8,
      "outputs": [
        {
          "output_type": "stream",
          "name": "stdout",
          "text": [
            "0\n",
            "1\n",
            "2\n",
            "3\n",
            "4\n",
            "5\n",
            "Finally finished!\n"
          ]
        }
      ]
    },
    {
      "cell_type": "markdown",
      "source": [
        "**for 루프의 else2**"
      ],
      "metadata": {
        "id": "iEl8DoWT48xh"
      }
    },
    {
      "cell_type": "code",
      "source": [
        "for x in range(6):\n",
        "  if x == 3: break\n",
        "  print(x)\n",
        "else:\n",
        "  print(\"Finally finished!\")"
      ],
      "metadata": {
        "colab": {
          "base_uri": "https://localhost:8080/"
        },
        "id": "Sek0xidZ5CaB",
        "outputId": "93cfb66c-4572-4fe4-8629-52f4c7388a5c"
      },
      "execution_count": 9,
      "outputs": [
        {
          "output_type": "stream",
          "name": "stdout",
          "text": [
            "0\n",
            "1\n",
            "2\n"
          ]
        }
      ]
    },
    {
      "cell_type": "markdown",
      "source": [
        "**중첩 루프**"
      ],
      "metadata": {
        "id": "e9Zk7A8g5Gj8"
      }
    },
    {
      "cell_type": "code",
      "source": [
        "adj = [\"red\", \"big\", \"tasty\"]\n",
        "fruits = [\"apple\", \"banana\", \"cherry\"]\n",
        "\n",
        "for x in adj:\n",
        "  for y in fruits:\n",
        "    print(x, y)"
      ],
      "metadata": {
        "colab": {
          "base_uri": "https://localhost:8080/"
        },
        "id": "dnzDdTsE5JWy",
        "outputId": "f8aeb948-b7af-4724-a1cb-ddecda9afcfb"
      },
      "execution_count": 10,
      "outputs": [
        {
          "output_type": "stream",
          "name": "stdout",
          "text": [
            "red apple\n",
            "red banana\n",
            "red cherry\n",
            "big apple\n",
            "big banana\n",
            "big cherry\n",
            "tasty apple\n",
            "tasty banana\n",
            "tasty cherry\n"
          ]
        }
      ]
    },
    {
      "cell_type": "markdown",
      "source": [
        "**pass**"
      ],
      "metadata": {
        "id": "4fNZk20g5OfC"
      }
    },
    {
      "cell_type": "code",
      "source": [
        "for x in [0, 1, 2]:\n",
        "  pass"
      ],
      "metadata": {
        "id": "1pUomO035RrM"
      },
      "execution_count": 11,
      "outputs": []
    },
    {
      "cell_type": "markdown",
      "source": [
        "**while 루프**"
      ],
      "metadata": {
        "id": "UBOQDqmN5hg7"
      }
    },
    {
      "cell_type": "code",
      "source": [
        "i = 1\n",
        "while i < 6:\n",
        "  print(i)\n",
        "  i += 1"
      ],
      "metadata": {
        "colab": {
          "base_uri": "https://localhost:8080/"
        },
        "id": "a2gKnviu5kmL",
        "outputId": "912232d8-20c7-4f17-cb1a-ccb4a463eeb5"
      },
      "execution_count": 12,
      "outputs": [
        {
          "output_type": "stream",
          "name": "stdout",
          "text": [
            "1\n",
            "2\n",
            "3\n",
            "4\n",
            "5\n"
          ]
        }
      ]
    },
    {
      "cell_type": "markdown",
      "source": [
        "**break 문**"
      ],
      "metadata": {
        "id": "u2Wyfw-_5mft"
      }
    },
    {
      "cell_type": "code",
      "source": [
        "i = 1\n",
        "while i < 6:\n",
        "  print(i)\n",
        "  if i == 3:\n",
        "    break\n",
        "  i += 1"
      ],
      "metadata": {
        "colab": {
          "base_uri": "https://localhost:8080/"
        },
        "id": "R1Wfv2tI5qkm",
        "outputId": "353e65bb-730e-49e3-da4e-d15a4f90a804"
      },
      "execution_count": 13,
      "outputs": [
        {
          "output_type": "stream",
          "name": "stdout",
          "text": [
            "1\n",
            "2\n",
            "3\n"
          ]
        }
      ]
    },
    {
      "cell_type": "markdown",
      "source": [
        "**continue 문**"
      ],
      "metadata": {
        "id": "Y28yKI8-5t9v"
      }
    },
    {
      "cell_type": "code",
      "source": [
        "i = 0\n",
        "while i < 6:\n",
        "  i += 1\n",
        "  if i == 3:\n",
        "    continue\n",
        "  print(i)"
      ],
      "metadata": {
        "colab": {
          "base_uri": "https://localhost:8080/"
        },
        "id": "Anz4tcFl5xoX",
        "outputId": "47317c6b-c2f0-4c39-8879-5d699a29e788"
      },
      "execution_count": 15,
      "outputs": [
        {
          "output_type": "stream",
          "name": "stdout",
          "text": [
            "1\n",
            "2\n",
            "4\n",
            "5\n",
            "6\n"
          ]
        }
      ]
    },
    {
      "cell_type": "markdown",
      "source": [
        "**else 문**"
      ],
      "metadata": {
        "id": "kNAcMKU051eP"
      }
    },
    {
      "cell_type": "code",
      "source": [
        "i = 1\n",
        "while i < 6:\n",
        "  print(i)\n",
        "  i += 1\n",
        "else:\n",
        "  print(\"i is no longer less than 6\")"
      ],
      "metadata": {
        "colab": {
          "base_uri": "https://localhost:8080/"
        },
        "id": "r8QABQ1854Wm",
        "outputId": "16930205-5326-4318-b96b-1fbe28840db1"
      },
      "execution_count": 16,
      "outputs": [
        {
          "output_type": "stream",
          "name": "stdout",
          "text": [
            "1\n",
            "2\n",
            "3\n",
            "4\n",
            "5\n",
            "i is no longer less than 6\n"
          ]
        }
      ]
    },
    {
      "cell_type": "markdown",
      "source": [
        "**for문 속도 증가 시뮬레이션**"
      ],
      "metadata": {
        "id": "9SpTDStG6rzx"
      }
    },
    {
      "cell_type": "code",
      "source": [
        "speed = 0\n",
        "for _ in range(3):\n",
        "    speed += 10\n",
        "    print(f\"현재 속도: {speed}km/h\")"
      ],
      "metadata": {
        "colab": {
          "base_uri": "https://localhost:8080/"
        },
        "id": "fUtMTa1g6w3B",
        "outputId": "d22202e8-1ebf-4e5f-a861-1b601ad2ac17"
      },
      "execution_count": 19,
      "outputs": [
        {
          "output_type": "stream",
          "name": "stdout",
          "text": [
            "현재 속도: 10km/h\n",
            "현재 속도: 20km/h\n",
            "현재 속도: 30km/h\n"
          ]
        }
      ]
    },
    {
      "cell_type": "markdown",
      "source": [
        "**for문 장애물 감지 처리**"
      ],
      "metadata": {
        "id": "ypVosjIU7AIq"
      }
    },
    {
      "cell_type": "code",
      "source": [
        "obstacles = [False, False, True, False]\n",
        "for i, detected in enumerate(obstacles):\n",
        "    if detected:\n",
        "        print(f\"{i}번 프레임: 장애물 감지 ⚠️\")\n",
        "    else:\n",
        "        print(f\"{i}번 프레임: 도로 이상 없음 ✅\")"
      ],
      "metadata": {
        "colab": {
          "base_uri": "https://localhost:8080/"
        },
        "id": "L5j4YqEt7Dvi",
        "outputId": "244895b5-1c48-40b1-d204-9967f5c6ae7e"
      },
      "execution_count": 18,
      "outputs": [
        {
          "output_type": "stream",
          "name": "stdout",
          "text": [
            "0번 프레임: 도로 이상 없음 ✅\n",
            "1번 프레임: 도로 이상 없음 ✅\n",
            "2번 프레임: 장애물 감지 ⚠️\n",
            "3번 프레임: 도로 이상 없음 ✅\n"
          ]
        }
      ]
    },
    {
      "cell_type": "markdown",
      "source": [
        "**for문 주행 명령 출력**"
      ],
      "metadata": {
        "id": "AGutZGIz7JbT"
      }
    },
    {
      "cell_type": "code",
      "source": [
        "commands = [\"직진\", \"좌회전\", \"우회전\", \"정지\"]\n",
        "for cmd in commands:\n",
        "    print(f\"명령 실행: {cmd}\")"
      ],
      "metadata": {
        "colab": {
          "base_uri": "https://localhost:8080/"
        },
        "id": "B8yHsjXp7PLL",
        "outputId": "de85ebf2-b351-41cf-e75d-cb88aecf0d01"
      },
      "execution_count": 17,
      "outputs": [
        {
          "output_type": "stream",
          "name": "stdout",
          "text": [
            "명령 실행: 직진\n",
            "명령 실행: 좌회전\n",
            "명령 실행: 우회전\n",
            "명령 실행: 정지\n"
          ]
        }
      ]
    },
    {
      "cell_type": "markdown",
      "source": [
        "**for문 차량들 속도 표시**"
      ],
      "metadata": {
        "id": "CZLcWD_S7lVe"
      }
    },
    {
      "cell_type": "code",
      "source": [
        "car_speeds = [30, 50, 45]\n",
        "for i, s in enumerate(car_speeds):\n",
        "    print(f\"{i+1}번 차량 속도: {s}km/h\")\n"
      ],
      "metadata": {
        "colab": {
          "base_uri": "https://localhost:8080/"
        },
        "id": "Wl4bD-xr7rm_",
        "outputId": "1eb67d76-2df2-45d8-9d94-6e39b19b975a"
      },
      "execution_count": 20,
      "outputs": [
        {
          "output_type": "stream",
          "name": "stdout",
          "text": [
            "1번 차량 속도: 30km/h\n",
            "2번 차량 속도: 50km/h\n",
            "3번 차량 속도: 45km/h\n"
          ]
        }
      ]
    },
    {
      "cell_type": "markdown",
      "source": [
        "**for문 신호등 상태에 따른 주행 결정**"
      ],
      "metadata": {
        "id": "R8ONHk4-7ydi"
      }
    },
    {
      "cell_type": "code",
      "source": [
        "traffic_lights = [\"green\", \"green\", \"yellow\", \"red\", \"green\"]\n",
        "\n",
        "for light in traffic_lights:\n",
        "    if light == \"green\":\n",
        "        print(\"🚗 주행합니다.\")\n",
        "    elif light == \"yellow\":\n",
        "        print(\"⚠️ 속도 줄입니다.\")\n",
        "    elif light == \"red\":\n",
        "        print(\"🛑 정지합니다.\")\n"
      ],
      "metadata": {
        "colab": {
          "base_uri": "https://localhost:8080/"
        },
        "id": "R_XvEro174OH",
        "outputId": "d3759182-9b16-4747-c13d-39aa5d9c1225"
      },
      "execution_count": 21,
      "outputs": [
        {
          "output_type": "stream",
          "name": "stdout",
          "text": [
            "🚗 주행합니다.\n",
            "🚗 주행합니다.\n",
            "⚠️ 속도 줄입니다.\n",
            "🛑 정지합니다.\n",
            "🚗 주행합니다.\n"
          ]
        }
      ]
    },
    {
      "cell_type": "markdown",
      "source": [
        "**while문 속도 제한까지 가속하기**"
      ],
      "metadata": {
        "id": "9JyEpuim8CLV"
      }
    },
    {
      "cell_type": "code",
      "source": [
        "speed = 0\n",
        "while speed < 50:\n",
        "    speed += 10\n",
        "    print(f\"현재 속도: {speed}km/h\")\n"
      ],
      "metadata": {
        "colab": {
          "base_uri": "https://localhost:8080/"
        },
        "id": "g1PBEBvS8GBF",
        "outputId": "1f38ac51-2021-45aa-d698-e19895f25aaf"
      },
      "execution_count": 22,
      "outputs": [
        {
          "output_type": "stream",
          "name": "stdout",
          "text": [
            "현재 속도: 10km/h\n",
            "현재 속도: 20km/h\n",
            "현재 속도: 30km/h\n",
            "현재 속도: 40km/h\n",
            "현재 속도: 50km/h\n"
          ]
        }
      ]
    },
    {
      "cell_type": "markdown",
      "source": [
        "**while문 장애물 감지되면 정지**"
      ],
      "metadata": {
        "id": "z7vS0yew8Hui"
      }
    },
    {
      "cell_type": "code",
      "source": [
        "obstacle = False\n",
        "frame = 0\n",
        "\n",
        "while not obstacle:\n",
        "    print(f\"{frame}번 프레임: 주행 중\")\n",
        "    if frame == 3:\n",
        "        obstacle = True\n",
        "        print(\"⚠️ 장애물 감지! 정지합니다.\")\n",
        "    frame += 1\n"
      ],
      "metadata": {
        "colab": {
          "base_uri": "https://localhost:8080/"
        },
        "id": "YRFOKjTf8K7R",
        "outputId": "956305ea-4699-4b4e-bdd4-27d3a03ddafb"
      },
      "execution_count": 23,
      "outputs": [
        {
          "output_type": "stream",
          "name": "stdout",
          "text": [
            "0번 프레임: 주행 중\n",
            "1번 프레임: 주행 중\n",
            "2번 프레임: 주행 중\n",
            "3번 프레임: 주행 중\n",
            "⚠️ 장애물 감지! 정지합니다.\n"
          ]
        }
      ]
    },
    {
      "cell_type": "markdown",
      "source": [
        "**while문 배터리 감소 시뮬레이션**"
      ],
      "metadata": {
        "id": "LVpbXNPO8MOu"
      }
    },
    {
      "cell_type": "code",
      "source": [
        "battery = 100\n",
        "\n",
        "while battery > 0:\n",
        "    print(f\"🔋 배터리: {battery}%\")\n",
        "    battery -= 25\n"
      ],
      "metadata": {
        "colab": {
          "base_uri": "https://localhost:8080/"
        },
        "id": "mqEXgpE_8SbF",
        "outputId": "afa08344-b0da-4657-b4ad-4a9a4d708280"
      },
      "execution_count": 24,
      "outputs": [
        {
          "output_type": "stream",
          "name": "stdout",
          "text": [
            "🔋 배터리: 100%\n",
            "🔋 배터리: 75%\n",
            "🔋 배터리: 50%\n",
            "🔋 배터리: 25%\n"
          ]
        }
      ]
    },
    {
      "cell_type": "markdown",
      "source": [
        "**while문 신호등이 초록불이 될 때까지 대기**"
      ],
      "metadata": {
        "id": "1PIVe8XN8b04"
      }
    },
    {
      "cell_type": "code",
      "source": [
        "light = \"red\"\n",
        "\n",
        "while light != \"green\":\n",
        "    print(\"🛑 대기 중...\")\n",
        "    light = input(\"신호등 색 입력: \")  # 사용자 입력 예시\n",
        "print(\"✅ 주행 시작!\")\n"
      ],
      "metadata": {
        "colab": {
          "base_uri": "https://localhost:8080/"
        },
        "id": "2QpSX2NE8gqJ",
        "outputId": "fc4d33bf-e571-4151-e7f2-f821a604acf1"
      },
      "execution_count": 27,
      "outputs": [
        {
          "output_type": "stream",
          "name": "stdout",
          "text": [
            "🛑 대기 중...\n",
            "신호등 색 입력: green\n",
            "✅ 주행 시작!\n"
          ]
        }
      ]
    },
    {
      "cell_type": "markdown",
      "source": [
        "**while문 위험 감지되면 비상 정지**"
      ],
      "metadata": {
        "id": "tgXl7W_m8mN2"
      }
    },
    {
      "cell_type": "code",
      "source": [
        "danger = False\n",
        "counter = 0\n",
        "\n",
        "while True:\n",
        "    print(\"🚗 주행 중...\")\n",
        "    counter += 1\n",
        "    if counter == 5:\n",
        "        danger = True\n",
        "        print(\"❌ 위험 상황 발생! 비상 정지.\")\n",
        "        break\n"
      ],
      "metadata": {
        "colab": {
          "base_uri": "https://localhost:8080/"
        },
        "id": "zXDnyCb-8rVh",
        "outputId": "8e9e7bc4-a3ae-4ba5-ce1d-63f096e0d371"
      },
      "execution_count": 26,
      "outputs": [
        {
          "output_type": "stream",
          "name": "stdout",
          "text": [
            "🚗 주행 중...\n",
            "🚗 주행 중...\n",
            "🚗 주행 중...\n",
            "🚗 주행 중...\n",
            "🚗 주행 중...\n",
            "❌ 위험 상황 발생! 비상 정지.\n"
          ]
        }
      ]
    }
  ]
}