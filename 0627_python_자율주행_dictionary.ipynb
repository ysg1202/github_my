{
  "nbformat": 4,
  "nbformat_minor": 0,
  "metadata": {
    "colab": {
      "provenance": [],
      "authorship_tag": "ABX9TyM00n6uet8t3HgQeikum2JI",
      "include_colab_link": true
    },
    "kernelspec": {
      "name": "python3",
      "display_name": "Python 3"
    },
    "language_info": {
      "name": "python"
    }
  },
  "cells": [
    {
      "cell_type": "markdown",
      "metadata": {
        "id": "view-in-github",
        "colab_type": "text"
      },
      "source": [
        "<a href=\"https://colab.research.google.com/github/ysg1202/github_my/blob/main/0627_python_%EC%9E%90%EC%9C%A8%EC%A3%BC%ED%96%89_dictionary.ipynb\" target=\"_parent\"><img src=\"https://colab.research.google.com/assets/colab-badge.svg\" alt=\"Open In Colab\"/></a>"
      ]
    },
    {
      "cell_type": "markdown",
      "source": [
        "**센서 데이터: 각 센서별 감지 거리 저장**"
      ],
      "metadata": {
        "id": "kjOLa4QT39jp"
      }
    },
    {
      "cell_type": "code",
      "execution_count": 1,
      "metadata": {
        "colab": {
          "base_uri": "https://localhost:8080/"
        },
        "id": "_0DwXQLp32id",
        "outputId": "16bdc5f6-ab59-4cd4-a8d0-405bb83b1e17"
      },
      "outputs": [
        {
          "output_type": "stream",
          "name": "stdout",
          "text": [
            "{'camera': 8.5, 'lidar': 12.3}\n"
          ]
        }
      ],
      "source": [
        "# 1단계: 빈 센서 데이터 딕셔너리 생성\n",
        "sensor_data = {}\n",
        "\n",
        "# 2단계: 카메라 센서 데이터 추가\n",
        "sensor_data['camera'] = 8.5\n",
        "\n",
        "# 3단계: 라이다 센서 데이터 추가\n",
        "sensor_data['lidar'] = 12.3\n",
        "\n",
        "# 최종 결과\n",
        "print(sensor_data)  # {'camera': 8.5, 'lidar': 12.3}"
      ]
    },
    {
      "cell_type": "markdown",
      "source": [
        "**경로 계획: 목적지별 거리 정보 관리**"
      ],
      "metadata": {
        "id": "9WKA232f4PZ8"
      }
    },
    {
      "cell_type": "code",
      "source": [
        "# 2. 경로 계획 - 목적지별 거리 정보\n",
        "destinations = ['집', '회사', '마트', '주유소']\n",
        "distances_km = [0, 15, 8, 12]\n",
        "\n",
        "route_plan = {}\n",
        "route_plan['집'] = 0\n",
        "route_plan['회사'] = 15\n",
        "route_plan['마트'] = 8\n",
        "route_plan['주유소'] = 12\n",
        "\n",
        "print(\"목적지별 거리:\", route_plan)"
      ],
      "metadata": {
        "colab": {
          "base_uri": "https://localhost:8080/"
        },
        "id": "PROfD_KD4X5K",
        "outputId": "64754e02-988e-4419-ce75-88a9935d81b7"
      },
      "execution_count": 4,
      "outputs": [
        {
          "output_type": "stream",
          "name": "stdout",
          "text": [
            "목적지별 거리: {'집': 0, '회사': 15, '마트': 8, '주유소': 12}\n"
          ]
        }
      ]
    },
    {
      "cell_type": "markdown",
      "source": [
        "**차량 점검: 부품별 상태 확인**"
      ],
      "metadata": {
        "id": "WeMucl4A4a-K"
      }
    },
    {
      "cell_type": "code",
      "source": [
        "# 3. 차량 상태 체크\n",
        "vehicle_parts = ['엔진', '브레이크', '타이어', '배터리']\n",
        "status_codes = ['정상', '정상', '교체필요', '정상']\n",
        "\n",
        "vehicle_status = {}\n",
        "vehicle_status['엔진'] = '정상'\n",
        "vehicle_status['브레이크'] = '정상'\n",
        "vehicle_status['타이어'] = '교체필요'\n",
        "vehicle_status['배터리'] = '정상'\n",
        "\n",
        "print(\"차량 상태:\", vehicle_status)"
      ],
      "metadata": {
        "colab": {
          "base_uri": "https://localhost:8080/"
        },
        "id": "DWsrpa0i4r1x",
        "outputId": "12523fd0-3152-45e2-b4b6-dcf5cdf8f757"
      },
      "execution_count": 5,
      "outputs": [
        {
          "output_type": "stream",
          "name": "stdout",
          "text": [
            "차량 상태: {'엔진': '정상', '브레이크': '정상', '타이어': '교체필요', '배터리': '정상'}\n"
          ]
        }
      ]
    },
    {
      "cell_type": "markdown",
      "source": [
        "**신호등: 교차로별 현재 신호 상태**"
      ],
      "metadata": {
        "id": "4-qen-yZ4u0T"
      }
    },
    {
      "cell_type": "code",
      "source": [
        "# 4. 신호등 정보 관리\n",
        "intersections = ['서울역', '강남역', '홍대입구']\n",
        "light_colors = ['빨강', '초록', '노랑']\n",
        "\n",
        "traffic_lights = {}\n",
        "traffic_lights['서울역'] = '빨강'\n",
        "traffic_lights['강남역'] = '초록'\n",
        "traffic_lights['홍대입구'] = '노랑'\n",
        "\n",
        "print(\"교차로 신호등:\", traffic_lights)"
      ],
      "metadata": {
        "colab": {
          "base_uri": "https://localhost:8080/"
        },
        "id": "wnmxVuiJ4w2C",
        "outputId": "7554bee3-a99b-4e32-979a-764aa7f39c58"
      },
      "execution_count": 6,
      "outputs": [
        {
          "output_type": "stream",
          "name": "stdout",
          "text": [
            "교차로 신호등: {'서울역': '빨강', '강남역': '초록', '홍대입구': '노랑'}\n"
          ]
        }
      ]
    },
    {
      "cell_type": "markdown",
      "source": [
        "**주차장: 구역별 빈자리 개수**"
      ],
      "metadata": {
        "id": "ZGybFArv4zrf"
      }
    },
    {
      "cell_type": "code",
      "source": [
        "# 5. 주차장 정보\n",
        "parking_zones = ['A구역', 'B구역', 'C구역', 'D구역']\n",
        "empty_spots = [5, 0, 12, 3]\n",
        "\n",
        "parking_info = {}\n",
        "parking_info['A구역'] = 5\n",
        "parking_info['B구역'] = 0\n",
        "parking_info['C구역'] = 12\n",
        "\n",
        "parking_info['D구역'] = 3\n",
        "\n",
        "print(\"주차장 빈자리:\", parking_info)"
      ],
      "metadata": {
        "colab": {
          "base_uri": "https://localhost:8080/"
        },
        "id": "ZCRBaGbT41ue",
        "outputId": "8cbd0a3f-67b6-4315-bbde-5a7008fa9cb1"
      },
      "execution_count": 8,
      "outputs": [
        {
          "output_type": "stream",
          "name": "stdout",
          "text": [
            "주차장 빈자리: {'A구역': 5, 'B구역': 0, 'C구역': 12, 'D구역': 3}\n"
          ]
        }
      ]
    },
    {
      "cell_type": "markdown",
      "source": [
        "**속도 제한: 도로 종류별 제한속도**"
      ],
      "metadata": {
        "id": "UQaZ0R9D47YY"
      }
    },
    {
      "cell_type": "code",
      "source": [
        "# 6. 속도 제한 구간\n",
        "road_sections = ['시내도로', '국도', '고속도로', '스쿨존']\n",
        "speed_limits = [50, 70, 100, 30]\n",
        "\n",
        "speed_zones = {}\n",
        "speed_zones['시내도로'] = 50\n",
        "speed_zones['국도'] = 70\n",
        "speed_zones['고속도로'] = 100\n",
        "speed_zones['스쿨존'] = 30\n",
        "\n",
        "print(\"구간별 제한속도:\", speed_zones)"
      ],
      "metadata": {
        "colab": {
          "base_uri": "https://localhost:8080/"
        },
        "id": "sp2Sgrss4-I4",
        "outputId": "880d244e-b98c-4261-ca25-168ff5c63a07"
      },
      "execution_count": 9,
      "outputs": [
        {
          "output_type": "stream",
          "name": "stdout",
          "text": [
            "구간별 제한속도: {'시내도로': 50, '국도': 70, '고속도로': 100, '스쿨존': 30}\n"
          ]
        }
      ]
    },
    {
      "cell_type": "markdown",
      "source": [
        "**주유소: 각 주유소까지의 거리**"
      ],
      "metadata": {
        "id": "sP4rxWmc5BV9"
      }
    },
    {
      "cell_type": "code",
      "source": [
        "# 7. 연료/충전소 정보\n",
        "station_names = ['GS칼텍스', '현대오일뱅크', '테슬라충전소', 'SK에너지']\n",
        "distances_to_stations = [2.5, 5.8, 1.2, 4.3]\n",
        "\n",
        "fuel_stations = {}\n",
        "fuel_stations['GS칼텍스'] = 2.5\n",
        "fuel_stations['현대오일뱅크'] = 5.8\n",
        "fuel_stations['테슬라충전소'] = 1.2\n",
        "fuel_stations['SK에너지'] = 4.3\n",
        "\n",
        "print(\"주유소까지 거리:\", fuel_stations)"
      ],
      "metadata": {
        "colab": {
          "base_uri": "https://localhost:8080/"
        },
        "id": "C2gvChV85Ege",
        "outputId": "822cd39f-0695-4c5a-c6fd-753e6e855b0d"
      },
      "execution_count": 10,
      "outputs": [
        {
          "output_type": "stream",
          "name": "stdout",
          "text": [
            "주유소까지 거리: {'GS칼텍스': 2.5, '현대오일뱅크': 5.8, '테슬라충전소': 1.2, 'SK에너지': 4.3}\n"
          ]
        }
      ]
    },
    {
      "cell_type": "markdown",
      "source": [
        "**날씨 대응: 날씨에 따른 주행 모드**"
      ],
      "metadata": {
        "id": "765tthjN5PIz"
      }
    },
    {
      "cell_type": "code",
      "source": [
        "# 8. 날씨별 주행 모드\n",
        "weather_conditions = ['맑음', '비', '눈', '안개']\n",
        "drive_modes = ['일반', '주의', '서행', '서행']\n",
        "weather_driving = {}\n",
        "weather_driving['맑음'] = '일반'\n",
        "weather_driving['비'] = '주의'\n",
        "weather_driving['눈'] = '서행'\n",
        "weather_driving['안개'] = '서행'\n",
        "\n",
        "print(\"날씨별 주행모드:\", weather_driving)"
      ],
      "metadata": {
        "colab": {
          "base_uri": "https://localhost:8080/"
        },
        "id": "8QNLwq5m5Run",
        "outputId": "892abeea-8b87-4ffc-8ed8-5d1f4c63f877"
      },
      "execution_count": 11,
      "outputs": [
        {
          "output_type": "stream",
          "name": "stdout",
          "text": [
            "날씨별 주행모드: {'맑음': '일반', '비': '주의', '눈': '서행', '안개': '서행'}\n"
          ]
        }
      ]
    },
    {
      "cell_type": "markdown",
      "source": [
        "**간단한 데이터 조회 예제**"
      ],
      "metadata": {
        "id": "okBzpXWJ5cLk"
      }
    },
    {
      "cell_type": "code",
      "source": [
        "print(\"\\n=== 데이터 조회 예제 ===\")\n",
        "print(\"라이다 센서 거리:\", sensor_data['lidar'], \"미터\")\n",
        "print(\"회사까지 거리:\", route_plan['회사'], \"km\")\n",
        "print(\"타이어 상태:\", vehicle_status['타이어'])\n",
        "print(\"강남역 신호등:\", traffic_lights['강남역'])\n",
        "print(\"C구역 빈자리:\", parking_info['C구역'], \"개\")\n",
        "print(\"고속도로 제한속도:\", speed_zones['고속도로'], \"km/h\")\n",
        "print(\"가장 가까운 충전소:\", \"테슬라충전소\", fuel_stations['테슬라충전소'], \"km\")\n",
        "print(\"비올 때 주행모드:\", weather_driving['비'])"
      ],
      "metadata": {
        "colab": {
          "base_uri": "https://localhost:8080/"
        },
        "id": "h1aOAOsO5emC",
        "outputId": "5b0eac9f-e444-4593-8d92-142076528b3a"
      },
      "execution_count": 12,
      "outputs": [
        {
          "output_type": "stream",
          "name": "stdout",
          "text": [
            "\n",
            "=== 데이터 조회 예제 ===\n",
            "라이다 센서 거리: 12.3 미터\n",
            "회사까지 거리: 15 km\n",
            "타이어 상태: 교체필요\n",
            "강남역 신호등: 초록\n",
            "C구역 빈자리: 12 개\n",
            "고속도로 제한속도: 100 km/h\n",
            "가장 가까운 충전소: 테슬라충전소 1.2 km\n",
            "비올 때 주행모드: 주의\n"
          ]
        }
      ]
    },
    {
      "cell_type": "markdown",
      "source": [
        "# 핵심 패턴\n",
        "\n",
        "## 리스트로 항목들 정의\n",
        "- items = ['item1', 'item2', 'item3']\n",
        "- values = [value1, value2, value3]\n",
        "\n",
        "## 딕셔너리로 매핑 관계 생성  \n",
        "- mapping = {}\n",
        "- mapping['item1'] = value1\n",
        "- mapping['item2'] = value2\n",
        "\n"
      ],
      "metadata": {
        "id": "VM_AprQl5isN"
      }
    }
  ]
}