{
  "nbformat": 4,
  "nbformat_minor": 0,
  "metadata": {
    "colab": {
      "provenance": [],
      "authorship_tag": "ABX9TyNGvDBe5YzyBwW/cVzVwwiz",
      "include_colab_link": true
    },
    "kernelspec": {
      "name": "python3",
      "display_name": "Python 3"
    },
    "language_info": {
      "name": "python"
    }
  },
  "cells": [
    {
      "cell_type": "markdown",
      "metadata": {
        "id": "view-in-github",
        "colab_type": "text"
      },
      "source": [
        "<a href=\"https://colab.research.google.com/github/ysg1202/github_my/blob/main/0627_python_%EC%9E%90%EC%9C%A8%EC%A3%BC%ED%96%89_list.ipynb\" target=\"_parent\"><img src=\"https://colab.research.google.com/assets/colab-badge.svg\" alt=\"Open In Colab\"/></a>"
      ]
    },
    {
      "cell_type": "markdown",
      "source": [
        "**센서 데이터 필터링 - 안전 거리 이상의 장애물만 추출**"
      ],
      "metadata": {
        "id": "glTYkPT2zkBY"
      }
    },
    {
      "cell_type": "code",
      "execution_count": null,
      "metadata": {
        "colab": {
          "base_uri": "https://localhost:8080/"
        },
        "id": "nyo4qPYSy3Tz",
        "outputId": "f44afef1-98ff-4fe9-c098-45b0c7b82d04"
      },
      "outputs": [
        {
          "output_type": "stream",
          "name": "stdout",
          "text": [
            "안전 거리 이상 장애물: [8.3, 15.7, 12.4, 6.1]\n"
          ]
        }
      ],
      "source": [
        "sensor_distances = [2.5, 8.3, 1.2, 15.7, 3.8, 0.9, 12.4, 6.1]\n",
        "safe_distances = [dist for dist in sensor_distances if dist > 5.0] # 5미터 이상 떨어진 \"안전한\" 장애물들만 선별\n",
        "\n",
        "print(\"안전 거리 이상 장애물:\", safe_distances)"
      ]
    },
    {
      "cell_type": "markdown",
      "source": [
        "**좌표 변환 - 상대 좌표를 절대 좌표로 변환**"
      ],
      "metadata": {
        "id": "dFLO1ebC0QTH"
      }
    },
    {
      "cell_type": "code",
      "source": [
        "vehicle_position = (10, 20)  # 차량 현재 위치\n",
        "relative_points = [(1, 2), (-3, 4), (5, -1), (0, 3)] # 차량 기준으로 본 주변 물체들의 상대 위치\n",
        "absolute_points = [(x + vehicle_position[0], y + vehicle_position[1]) # 절대 좌표 계산\n",
        "                   for x, y in relative_points]\n",
        "\n",
        "print(\"절대 좌표:\", absolute_points)\n"
      ],
      "metadata": {
        "colab": {
          "base_uri": "https://localhost:8080/"
        },
        "id": "3tei2o450blH",
        "outputId": "c00583c0-7019-4e2d-f199-29a0e5972257"
      },
      "execution_count": null,
      "outputs": [
        {
          "output_type": "stream",
          "name": "stdout",
          "text": [
            "절대 좌표: [(11, 22), (7, 24), (15, 19), (10, 23)]\n"
          ]
        }
      ]
    },
    {
      "cell_type": "markdown",
      "source": [
        " **속도 제한 적용 - 각 구간별 최대 속도 제한**"
      ],
      "metadata": {
        "id": "7EYUneY91CkS"
      }
    },
    {
      "cell_type": "code",
      "source": [
        "current_speeds = [45, 75, 38, 82, 55, 95, 28]\n",
        "speed_limits = [50, 70, 40, 80, 60, 90, 30]\n",
        "\n",
        "# 각 속도에 대해 속도 제한 이하로 조정\n",
        "# zip() 함수는 두 개 이상의 리스트를 짝지어주는 함수\n",
        "# min() 함수는 주어진 두 값 중 더 작은 값을 반환\n",
        "adjusted_speeds = [min(current, limit) for current, limit in zip(current_speeds, speed_limits)]\n",
        "\n",
        "print(\"속도 제한 적용 후:\", adjusted_speeds)"
      ],
      "metadata": {
        "colab": {
          "base_uri": "https://localhost:8080/"
        },
        "id": "hxRmag2R1kL4",
        "outputId": "2aac9e47-f62b-41ff-b503-7e37c552a082"
      },
      "execution_count": 14,
      "outputs": [
        {
          "output_type": "stream",
          "name": "stdout",
          "text": [
            "속도 제한 적용 후: [45, 70, 38, 80, 55, 90, 28]\n"
          ]
        }
      ]
    },
    {
      "cell_type": "markdown",
      "source": [
        "**경로 포인트 생성 - 시작점과 끝점 사이의 중간 포인트들 생성**"
      ],
      "metadata": {
        "id": "vqUtCyl02lOg"
      }
    },
    {
      "cell_type": "code",
      "source": [
        "start_point = (0, 0)\n",
        "end_point = (10, 8)\n",
        "num_points = 5 # 총 5개 포인트로 나눠서 경로 생성\n",
        "\n",
        "# i = 0: 시작점 → (0.0, 0.0)\n",
        "# i = 1: 25% 지점 → (2.5, 2.0)\n",
        "# i = 2: 50% 지점 → (5.0, 4.0)\n",
        "# i = 3: 75% 지점 → (7.5, 6.0)\n",
        "# i = 4:끝점 → (10.0, 8.0)\n",
        "path_points = [(start_point[0] + i * (end_point[0] - start_point[0]) / (num_points - 1),\n",
        "                start_point[1] + i * (end_point[1] - start_point[1]) / (num_points - 1))\n",
        "               for i in range(num_points)]\n",
        "\n",
        "print(\"경로 포인트들:\", path_points)"
      ],
      "metadata": {
        "colab": {
          "base_uri": "https://localhost:8080/"
        },
        "id": "c_qEMEB12nD8",
        "outputId": "482fddd1-26d9-463d-b672-bb19b1a38cd8"
      },
      "execution_count": 16,
      "outputs": [
        {
          "output_type": "stream",
          "name": "stdout",
          "text": [
            "경로 포인트들: [(0.0, 0.0), (2.5, 2.0), (5.0, 4.0), (7.5, 6.0), (10.0, 8.0)]\n"
          ]
        }
      ]
    },
    {
      "cell_type": "markdown",
      "source": [
        "**조건부 다중 필터링 - 위험 상황 감지**"
      ],
      "metadata": {
        "id": "a_EWtWUV2uVN"
      }
    },
    {
      "cell_type": "code",
      "source": [
        "# 여러 개의 센서 정보를 목록(리스트) 으로 저장, 각 센서의 속성은 딕셔너리로 구조화\n",
        "sensor_data = [\n",
        "    {'type': 'lidar', 'distance': 3.2, 'angle': 45},\n",
        "    {'type': 'camera', 'distance': 8.5, 'angle': 0},\n",
        "    {'type': 'radar', 'distance': 1.8, 'angle': -30},\n",
        "    {'type': 'lidar', 'distance': 12.3, 'angle': 90}\n",
        "]\n",
        "\n",
        "danger_sensors = [sensor for sensor in sensor_data\n",
        "                  if sensor['distance'] < 5.0 and abs(sensor['angle']) < 60]\n",
        "\n",
        "print(\"위험 감지 센서:\", danger_sensors)"
      ],
      "metadata": {
        "colab": {
          "base_uri": "https://localhost:8080/"
        },
        "id": "3gFGj7f52woZ",
        "outputId": "8b26e842-63f5-4bcf-fff9-c43a73861fae"
      },
      "execution_count": 20,
      "outputs": [
        {
          "output_type": "stream",
          "name": "stdout",
          "text": [
            "위험 감지 센서: [{'type': 'lidar', 'distance': 3.2, 'angle': 45}, {'type': 'radar', 'distance': 1.8, 'angle': -30}]\n"
          ]
        }
      ]
    },
    {
      "cell_type": "markdown",
      "source": [
        "**신호등 색상별 행동 결정**"
      ],
      "metadata": {
        "id": "YhJXa0zG24D-"
      }
    },
    {
      "cell_type": "code",
      "source": [
        "traffic_lights = [\n",
        "    {'color': 'red', 'time_left': 15},\n",
        "    {'color': 'green', 'time_left': 8},\n",
        "    {'color': 'yellow', 'time_left': 3},\n",
        "    {'color': 'green', 'time_left': 25}\n",
        "]\n",
        "\n",
        "stop_required = [light for light in traffic_lights\n",
        "                 if light['color'] == 'red' or\n",
        "                 (light['color'] == 'yellow' and light['time_left'] < 5)]\n",
        "\n",
        "print(\"정지 필요한 신호등:\", stop_required)"
      ],
      "metadata": {
        "colab": {
          "base_uri": "https://localhost:8080/"
        },
        "id": "8wWAjNa025SS",
        "outputId": "0ba63bac-6e45-4f0a-ff20-1618794347a0"
      },
      "execution_count": 21,
      "outputs": [
        {
          "output_type": "stream",
          "name": "stdout",
          "text": [
            "정지 필요한 신호등: [{'color': 'red', 'time_left': 15}, {'color': 'yellow', 'time_left': 3}]\n"
          ]
        }
      ]
    },
    {
      "cell_type": "markdown",
      "source": [
        "**배터리 잔량에 따른 충전소 필터링**"
      ],
      "metadata": {
        "id": "OIk-AoaD2-TZ"
      }
    },
    {
      "cell_type": "code",
      "source": [
        "charging_stations = [\n",
        "    {'name': '서울역', 'distance': 12, 'power': 'fast'},\n",
        "    {'name': '강남역', 'distance': 8, 'power': 'normal'},\n",
        "    {'name': '홍대입구', 'distance': 15, 'power': 'fast'},\n",
        "    {'name': '잠실역', 'distance': 5, 'power': 'slow'}\n",
        "]\n",
        "\n",
        "battery_percent = 15  # 배터리 15% 남음(임계값)\n",
        "urgent_chargers = [station for station in charging_stations\n",
        "                   if station['distance'] < 10 and station['power'] != 'slow']\n",
        "\n",
        "print(\"긴급 충전 가능한 곳:\", urgent_chargers)"
      ],
      "metadata": {
        "colab": {
          "base_uri": "https://localhost:8080/"
        },
        "id": "vaQ_oP8l3DZZ",
        "outputId": "ab08cffe-e78a-441e-b50d-98ac487f2ced"
      },
      "execution_count": null,
      "outputs": [
        {
          "output_type": "stream",
          "name": "stdout",
          "text": [
            "긴급 충전 가능한 곳: [{'name': '강남역', 'distance': 8, 'power': 'normal'}]\n"
          ]
        }
      ]
    },
    {
      "cell_type": "markdown",
      "source": [
        "**주차 공간 크기 확인**"
      ],
      "metadata": {
        "id": "0mw2VJsh3GK9"
      }
    },
    {
      "cell_type": "code",
      "source": [
        "parking_spaces = [\n",
        "    {'id': 'A1', 'length': 4.8, 'width': 2.3, 'occupied': False},\n",
        "    {'id': 'A2', 'length': 5.2, 'width': 2.5, 'occupied': True},\n",
        "    {'id': 'B1', 'length': 4.5, 'width': 2.1, 'occupied': False},\n",
        "    {'id': 'B2', 'length': 5.5, 'width': 2.8, 'occupied': False}\n",
        "]\n",
        "\n",
        "vehicle_size = {'length': 4.7, 'width': 2.0}  # 내 차 크기\n",
        "\n",
        "suitable_spots = [spot for spot in parking_spaces\n",
        "                  if not spot['occupied'] and\n",
        "                  spot['length'] > vehicle_size['length'] and\n",
        "                  spot['width'] > vehicle_size['width']]\n",
        "\n",
        "print(\"주차 가능한 공간:\", suitable_spots)"
      ],
      "metadata": {
        "colab": {
          "base_uri": "https://localhost:8080/"
        },
        "id": "lH3TpT7u3IYE",
        "outputId": "c1c52dd7-d73e-411c-d228-7ab2fcfd65c6"
      },
      "execution_count": null,
      "outputs": [
        {
          "output_type": "stream",
          "name": "stdout",
          "text": [
            "주차 가능한 공간: [{'id': 'A1', 'length': 4.8, 'width': 2.3, 'occupied': False}, {'id': 'B2', 'length': 5.5, 'width': 2.8, 'occupied': False}]\n"
          ]
        }
      ]
    },
    {
      "cell_type": "markdown",
      "source": [
        "**차선별 차량들의 속도값 저장**"
      ],
      "metadata": {
        "id": "Hn4b5ycq3QXS"
      }
    },
    {
      "cell_type": "code",
      "source": [
        "lane_vehicles = [\n",
        "    {'lane': 1, 'speed': 65}, {'lane': 2, 'speed': 80}, {'lane': 1, 'speed': 70},\n",
        "    {'lane': 3, 'speed': 85}, {'lane': 2, 'speed': 75}, {'lane': 1, 'speed': 60},\n",
        "    {'lane': 3, 'speed': 90}, {'lane': 2, 'speed': 82}\n",
        "]"
      ],
      "metadata": {
        "id": "0f7RZdax3U1s"
      },
      "execution_count": null,
      "outputs": []
    },
    {
      "cell_type": "markdown",
      "source": [
        "**2차선 차량들의 속도만 추출**"
      ],
      "metadata": {
        "id": "eR1Z2w3h3jdn"
      }
    },
    {
      "cell_type": "code",
      "source": [
        "lane2_speeds = [car['speed'] for car in lane_vehicles if car['lane'] == 2]\n",
        "lane2_avg = sum(lane2_speeds) / len(lane2_speeds)\n",
        "\n",
        "print(\"2차선 평균 속도:\", round(lane2_avg, 1), \"km/h\")"
      ],
      "metadata": {
        "colab": {
          "base_uri": "https://localhost:8080/"
        },
        "id": "hoEojy6W3mxC",
        "outputId": "d8ee0e66-174f-4959-a4cc-95855d003878"
      },
      "execution_count": null,
      "outputs": [
        {
          "output_type": "stream",
          "name": "stdout",
          "text": [
            "2차선 평균 속도: 79.0 km/h\n"
          ]
        }
      ]
    },
    {
      "cell_type": "markdown",
      "source": [
        "**야간/악천후 시 센서 상태 체크**"
      ],
      "metadata": {
        "id": "lzTFgVNq3rJe"
      }
    },
    {
      "cell_type": "code",
      "source": [
        "sensor_status = [\n",
        "    {'name': 'front_camera', 'visibility': 0.3, 'working': True},\n",
        "    {'name': 'rear_camera', 'visibility': 0.8, 'working': True},\n",
        "    {'name': 'side_lidar', 'visibility': 0.9, 'working': False},\n",
        "    {'name': 'front_radar', 'visibility': 0.7, 'working': True}\n",
        "]\n",
        "\n",
        "reliable_sensors = [sensor['name'] for sensor in sensor_status\n",
        "                    if sensor['working'] and sensor['visibility'] > 0.5]\n",
        "\n",
        "print(\"신뢰할 수 있는 센서:\", reliable_sensors)"
      ],
      "metadata": {
        "id": "TY8T6Cxu3sRq",
        "outputId": "72322801-6198-4c71-c2e8-99e560720104",
        "colab": {
          "base_uri": "https://localhost:8080/"
        }
      },
      "execution_count": null,
      "outputs": [
        {
          "output_type": "stream",
          "name": "stdout",
          "text": [
            "신뢰할 수 있는 센서: ['rear_camera', 'front_radar']\n"
          ]
        }
      ]
    }
  ]
}