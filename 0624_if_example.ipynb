{
  "nbformat": 4,
  "nbformat_minor": 0,
  "metadata": {
    "colab": {
      "provenance": [],
      "authorship_tag": "ABX9TyMDBYl4G63mRsDuJjKRV/Gu",
      "include_colab_link": true
    },
    "kernelspec": {
      "name": "python3",
      "display_name": "Python 3"
    },
    "language_info": {
      "name": "python"
    }
  },
  "cells": [
    {
      "cell_type": "markdown",
      "metadata": {
        "id": "view-in-github",
        "colab_type": "text"
      },
      "source": [
        "<a href=\"https://colab.research.google.com/github/ysg1202/github_my/blob/main/0624_if_example.ipynb\" target=\"_parent\"><img src=\"https://colab.research.google.com/assets/colab-badge.svg\" alt=\"Open In Colab\"/></a>"
      ]
    },
    {
      "cell_type": "markdown",
      "source": [
        "**키의 평균**"
      ],
      "metadata": {
        "id": "k37yTZ-T5hUQ"
      }
    },
    {
      "cell_type": "code",
      "execution_count": null,
      "metadata": {
        "id": "tNPjBVty5aJ6"
      },
      "outputs": [],
      "source": [
        "height_1 = 170\n",
        "height_2 = 150\n",
        "height_3 = 180\n",
        "height_4 = 175\n",
        "height_5 = 178\n",
        "\n",
        "sum = height_1 + height_2 + height_3 + height_4 + height_5  #첫번째 방법\n",
        "mean = sum / 5\n",
        "\n",
        "print('다섯 명의 평균키: ', mean)\n",
        "\n",
        "heights = [160, 170, 180, 175, 165]   #두번째 방법\n",
        "total = 0\n",
        "\n",
        "for height in heights:\n",
        "    total += height\n",
        "average = total / len(heights)\n",
        "\n",
        "print(\"총합:\", total)\n",
        "print(\"평균 키:\", average)\n",
        "\n",
        "height = [180, 175, 170]             #세번째 방법\n",
        "\n",
        "print((height[0]+height[1]+height[2])/3)"
      ]
    },
    {
      "cell_type": "markdown",
      "source": [
        "**키 평균 if문**"
      ],
      "metadata": {
        "id": "l4ymJ1115mh5"
      }
    },
    {
      "cell_type": "code",
      "source": [
        "height_1 = 170\n",
        "height_2 = 150\n",
        "height_3 = 180\n",
        "height_4 = 175\n",
        "height_5 = 178\n",
        "\n",
        "if height_1 > 170:\n",
        "  print(\"큰키\")\n",
        "\n",
        "else:\n",
        "  print(\"작은키\")"
      ],
      "metadata": {
        "id": "BJuBJgJ65qHs"
      },
      "execution_count": null,
      "outputs": []
    },
    {
      "cell_type": "markdown",
      "source": [
        "**자율주행 신호등 if문**"
      ],
      "metadata": {
        "id": "tFzbo0AA5snx"
      }
    },
    {
      "cell_type": "code",
      "source": [
        "# 가상의 센서 데이터\n",
        "front_distance = 3.0  # 앞차와의 거리 (미터 단위)\n",
        "traffic_light = \"red\"  # 신호등 색상: red, green, yellow\n",
        "lane_detected = True\n",
        "\n",
        "# 전방 충돌 방지\n",
        "if front_distance < 5.0:\n",
        "    print(\"감속 또는 정지: 앞 차량과 거리 부족\")\n",
        "\n",
        "# 신호등 판단\n",
        "if traffic_light == \"red\":\n",
        "    print(\"정지합니다: 빨간불\")\n",
        "elif traffic_light == \"yellow\":\n",
        "    print(\"감속합니다: 노란불\")\n",
        "else:\n",
        "    print(\"진행합니다: 초록불\")\n",
        "\n",
        "# 차선 인식 여부\n",
        "if not lane_detected:\n",
        "    print(\"경고: 차선을 잃었습니다! 자율주행 불가\")"
      ],
      "metadata": {
        "id": "MYR0TXvK5wYJ"
      },
      "execution_count": null,
      "outputs": []
    },
    {
      "cell_type": "markdown",
      "source": [
        "**자율주행 차선이탈 if문**"
      ],
      "metadata": {
        "id": "frO3fCMy5xHm"
      }
    },
    {
      "cell_type": "code",
      "source": [
        "# 가상의 센서 데이터\n",
        "lane_position = 0.0  # 0이면 정중앙, 음수면 왼쪽 이탈, 양수면 오른쪽 이탈\n",
        "lane_threshold = 0.5  # 허용 가능한 차선 중심 오차 (미터)\n",
        "\n",
        "# 차선 감지 여부\n",
        "lane_detected = True\n",
        "\n",
        "if lane_detected:\n",
        "    if lane_position < -lane_threshold:\n",
        "        print(\"왼쪽으로 차선 이탈! 오른쪽으로 조향하세요.\")\n",
        "    elif lane_position > lane_threshold:\n",
        "        print(\"오른쪽으로 차선 이탈! 왼쪽으로 조향하세요.\")\n",
        "    else:\n",
        "        print(\"차선 중앙 유지 중\")\n",
        "else:\n",
        "    print(\"차선을 인식할 수 없습니다! 수동 운전 전환 필요\")"
      ],
      "metadata": {
        "id": "YOnBQVRU50XZ"
      },
      "execution_count": null,
      "outputs": []
    },
    {
      "cell_type": "markdown",
      "source": [
        "**속도 제한 감지**"
      ],
      "metadata": {
        "id": "HyaXqJlm7gAy"
      }
    },
    {
      "cell_type": "code",
      "source": [
        "current_speed = 85  # 현재 속도 (km/h)\n",
        "speed_limit = 80  # 제한 속도\n",
        "\n",
        "if current_speed > speed_limit:\n",
        "    print(\"속도 초과! 감속합니다.\")\n",
        "else:\n",
        "    print(\"적절한 속도 유지 중입니다.\")\n"
      ],
      "metadata": {
        "colab": {
          "base_uri": "https://localhost:8080/"
        },
        "id": "shKjTGpl7jc-",
        "outputId": "0d7bbd8d-02d8-4d89-de40-69f8c6e02c91"
      },
      "execution_count": null,
      "outputs": [
        {
          "output_type": "stream",
          "name": "stdout",
          "text": [
            "속도 초과! 감속합니다.\n"
          ]
        }
      ]
    },
    {
      "cell_type": "markdown",
      "source": [
        "**보행자 감지 대응**"
      ],
      "metadata": {
        "id": "MU1CASt07mru"
      }
    },
    {
      "cell_type": "code",
      "source": [
        "pedestrian_detected = True\n",
        "distance_to_pedestrian = 7  # 단위: 미터\n",
        "\n",
        "if pedestrian_detected:\n",
        "    if distance_to_pedestrian < 10:\n",
        "        print(\"보행자 가까움! 즉시 감속 또는 정지.\")\n",
        "    else:\n",
        "        print(\"보행자 인식됨. 주의 운전.\")\n",
        "else:\n",
        "    print(\"보행자 없음.\")\n"
      ],
      "metadata": {
        "colab": {
          "base_uri": "https://localhost:8080/"
        },
        "id": "erGS6-xW7pRV",
        "outputId": "e249d2cc-3f5e-4051-a773-512f73a2b2f8"
      },
      "execution_count": null,
      "outputs": [
        {
          "output_type": "stream",
          "name": "stdout",
          "text": [
            "보행자 가까움! 즉시 감속 또는 정지.\n"
          ]
        }
      ]
    },
    {
      "cell_type": "markdown",
      "source": [
        "**비상 정지 상황**"
      ],
      "metadata": {
        "id": "FxWL6FAV7tKO"
      }
    },
    {
      "cell_type": "code",
      "source": [
        "obstacle_detected = True\n",
        "distance_to_obstacle = 1.2  # 단위: 미터\n",
        "\n",
        "if obstacle_detected and distance_to_obstacle < 2.0:\n",
        "    print(\"비상! 급정지 수행\")\n",
        "else:\n",
        "    print(\"장애물 없음 또는 충분한 거리 확보\")\n"
      ],
      "metadata": {
        "colab": {
          "base_uri": "https://localhost:8080/"
        },
        "id": "gwnDSXo37vgt",
        "outputId": "746c8bec-9bac-46c0-a887-75b952281f66"
      },
      "execution_count": null,
      "outputs": [
        {
          "output_type": "stream",
          "name": "stdout",
          "text": [
            "비상! 급정지 수행\n"
          ]
        }
      ]
    }
  ]
}