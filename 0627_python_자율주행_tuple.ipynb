{
  "nbformat": 4,
  "nbformat_minor": 0,
  "metadata": {
    "colab": {
      "provenance": [],
      "authorship_tag": "ABX9TyMPgWU99sEDDD85rNDM48nh",
      "include_colab_link": true
    },
    "kernelspec": {
      "name": "python3",
      "display_name": "Python 3"
    },
    "language_info": {
      "name": "python"
    }
  },
  "cells": [
    {
      "cell_type": "markdown",
      "metadata": {
        "id": "view-in-github",
        "colab_type": "text"
      },
      "source": [
        "<a href=\"https://colab.research.google.com/github/ysg1202/github_my/blob/main/0627_python_%EC%9E%90%EC%9C%A8%EC%A3%BC%ED%96%89_tuple.ipynb\" target=\"_parent\"><img src=\"https://colab.research.google.com/assets/colab-badge.svg\" alt=\"Open In Colab\"/></a>"
      ]
    },
    {
      "cell_type": "markdown",
      "source": [
        "GPS 좌표"
      ],
      "metadata": {
        "id": "QF2ZxsLzN0ye"
      }
    },
    {
      "cell_type": "code",
      "execution_count": 1,
      "metadata": {
        "id": "Y_TuCpwSNrJt"
      },
      "outputs": [],
      "source": [
        "location = (127.027, 37.498)\n",
        "lon, lat = location  # 언패킹해서 사용"
      ]
    },
    {
      "cell_type": "markdown",
      "source": [
        "센서 측정값"
      ],
      "metadata": {
        "id": "mWue2x7LOH6Y"
      }
    },
    {
      "cell_type": "code",
      "source": [
        "# 거리, 각도, 센서타입은 세트 → 튜플로 묶기\n",
        "lidar_reading = (8.5, 45, 'lidar')\n",
        "distance, angle, sensor_type = lidar_reading"
      ],
      "metadata": {
        "id": "3kKBMKbuOJYA"
      },
      "execution_count": 2,
      "outputs": []
    },
    {
      "cell_type": "markdown",
      "source": [
        "교통신호"
      ],
      "metadata": {
        "id": "UG8TansAOPq-"
      }
    },
    {
      "cell_type": "code",
      "source": [
        "# 신호색과 남은시간은 함께 필요 → 튜플로 묶기\n",
        "traffic_light = ('red', 15) # 15초\n",
        "color, time_left = traffic_light"
      ],
      "metadata": {
        "id": "4S2V_5mOOQf_"
      },
      "execution_count": 3,
      "outputs": []
    },
    {
      "cell_type": "markdown",
      "source": [
        "PART 1: Tuple Unpacking 기본"
      ],
      "metadata": {
        "id": "-kudRUdbOcye"
      }
    },
    {
      "cell_type": "code",
      "source": [
        "vehicle_position = (127.5, 37.5)\n",
        "longitude, latitude = vehicle_position"
      ],
      "metadata": {
        "id": "gIu3w1DsOhRP"
      },
      "execution_count": 4,
      "outputs": []
    },
    {
      "cell_type": "markdown",
      "source": [
        "PART 2: Tuple Unpacking + 리스트"
      ],
      "metadata": {
        "id": "5dAh_rVdOjtm"
      }
    },
    {
      "cell_type": "code",
      "source": [
        "sensor_readings = [(8.5, 45, 'lidar'), (12.3, 0, 'camera')]\n",
        "for sensor_data in sensor_readings:\n",
        "    dist, ang, sensor_type = sensor_data  # 반복문에서 언패킹"
      ],
      "metadata": {
        "id": "0lrolbGNOl6p"
      },
      "execution_count": 5,
      "outputs": []
    },
    {
      "cell_type": "markdown",
      "source": [
        "PART 3: Tuple Unpacking + 딕셔너리"
      ],
      "metadata": {
        "id": "DtU-9PqqOwdo"
      }
    },
    {
      "cell_type": "code",
      "source": [
        "vehicle_locations = {'car_001': (127.1, 37.5, 60)}\n",
        "for vehicle_id, location_data in vehicle_locations.items():\n",
        "    lon, lat, spd = location_data  # 딕셔너리 값을 언패킹"
      ],
      "metadata": {
        "id": "7ctjMaG2OzV3"
      },
      "execution_count": 6,
      "outputs": []
    },
    {
      "cell_type": "markdown",
      "source": [
        "PART 4: 실전 응용 - 중첩 Unpacking"
      ],
      "metadata": {
        "id": "cxOWGBlsO176"
      }
    },
    {
      "cell_type": "code",
      "source": [
        "traffic_data = [('09:15', (127.1, 37.5), 45, 'sedan', 1)]\n",
        "for data in traffic_data:\n",
        "    time, position, speed, vehicle_type, lane = data\n",
        "    lon, lat = position  # 중첩된 튜플도 언패킹"
      ],
      "metadata": {
        "id": "kP1Z9w1_O3Z5"
      },
      "execution_count": 8,
      "outputs": []
    },
    {
      "cell_type": "markdown",
      "source": [
        "# Tuple Unpacking의 장점\n",
        "- 가독성: position[0], position[1] 대신 longitude, latitude\n",
        "- 효율성: 한 번에 여러 값을 변수로 할당\n",
        "- 안전성: 값의 개수가 맞지 않으면 에러로 알려줌\n",
        "\n",
        "# 실제 자율주행에서의 활용\n",
        "- GPS 좌표: (경도, 위도) → lon, lat\n",
        "- 센서 데이터: (거리, 각도, 타입) → distance, angle, sensor_type\n",
        "- 차량 상태: (속도, 방향, 연료) → speed, heading, fuel\n",
        "\n"
      ],
      "metadata": {
        "id": "gTeCYEbgPAvA"
      }
    },
    {
      "cell_type": "markdown",
      "source": [
        "## PART 1: Tuple Unpacking 기본 - 자율주행 예제"
      ],
      "metadata": {
        "id": "EvmUGJ8LQnaO"
      }
    },
    {
      "cell_type": "markdown",
      "source": [
        "기본 좌표 언패킹"
      ],
      "metadata": {
        "id": "uec-ssi5PWP-"
      }
    },
    {
      "cell_type": "code",
      "source": [
        "vehicle_position = (127.5, 37.5)  # 경도, 위도\n",
        "\n",
        "longitude, latitude = vehicle_position\n",
        "print(f\"차량 위치: 경도 {longitude}, 위도 {latitude}\")"
      ],
      "metadata": {
        "colab": {
          "base_uri": "https://localhost:8080/"
        },
        "id": "sUe9FO5zPZkw",
        "outputId": "b9582320-563a-45f4-93bf-245f4e0bc1de"
      },
      "execution_count": 9,
      "outputs": [
        {
          "output_type": "stream",
          "name": "stdout",
          "text": [
            "차량 위치: 경도 127.5, 위도 37.5\n"
          ]
        }
      ]
    },
    {
      "cell_type": "markdown",
      "source": [
        "센서 데이터 언패킹"
      ],
      "metadata": {
        "id": "ZKAQFTScP96h"
      }
    },
    {
      "cell_type": "code",
      "source": [
        "lidar_data = (8.5, 45)  # 거리(미터), 각도(도)\n",
        "\n",
        "distance, angle = lidar_data\n",
        "print(f\"라이다 감지: {distance}m, {angle}도\")"
      ],
      "metadata": {
        "colab": {
          "base_uri": "https://localhost:8080/"
        },
        "id": "bcZX3aRLP_xg",
        "outputId": "89774ae7-ef6b-4452-c397-a21213cb7650"
      },
      "execution_count": 10,
      "outputs": [
        {
          "output_type": "stream",
          "name": "stdout",
          "text": [
            "라이다 감지: 8.5m, 45도\n"
          ]
        }
      ]
    },
    {
      "cell_type": "markdown",
      "source": [
        "속도와 방향 언패킹"
      ],
      "metadata": {
        "id": "rR1GQrVoQD7C"
      }
    },
    {
      "cell_type": "code",
      "source": [
        "motion_data = (60, 270)  # 속도(km/h), 방향(도)\n",
        "\n",
        "speed, direction = motion_data\n",
        "print(f\"차량 운동: {speed}km/h, {direction}도 방향\")"
      ],
      "metadata": {
        "colab": {
          "base_uri": "https://localhost:8080/"
        },
        "id": "FPdRZfIwQGD1",
        "outputId": "e5709f19-2927-4558-c818-e1baa7728afe"
      },
      "execution_count": 11,
      "outputs": [
        {
          "output_type": "stream",
          "name": "stdout",
          "text": [
            "차량 운동: 60km/h, 270도 방향\n"
          ]
        }
      ]
    },
    {
      "cell_type": "markdown",
      "source": [
        "교차로 신호등 정보 언패킹"
      ],
      "metadata": {
        "id": "Vxa06TPPQLKy"
      }
    },
    {
      "cell_type": "code",
      "source": [
        "traffic_signal = ('빨강', 15)  # 색상, 남은시간(초)\n",
        "\n",
        "color, time_left = traffic_signal\n",
        "print(f\"신호등: {color}, {time_left}초 남음\")"
      ],
      "metadata": {
        "colab": {
          "base_uri": "https://localhost:8080/"
        },
        "id": "aN2UH92WQNsn",
        "outputId": "ce118008-e46e-446e-b4cb-4f51f0f07d58"
      },
      "execution_count": 12,
      "outputs": [
        {
          "output_type": "stream",
          "name": "stdout",
          "text": [
            "신호등: 빨강, 15초 남음\n"
          ]
        }
      ]
    },
    {
      "cell_type": "markdown",
      "source": [
        " 주차 공간 정보 언패킹"
      ],
      "metadata": {
        "id": "AF1eUrBxQSmb"
      }
    },
    {
      "cell_type": "code",
      "source": [
        "parking_spot = (4.8, 2.3, True)  # 길이(m), 폭(m), 사용가능여부\n",
        "\n",
        "length, width, available = parking_spot\n",
        "print(f\"주차공간: {length}m × {width}m, 사용가능: {available}\")"
      ],
      "metadata": {
        "colab": {
          "base_uri": "https://localhost:8080/"
        },
        "id": "a8rK_95JQTzP",
        "outputId": "1ad919b3-a293-4bfd-8728-f9e890d5a404"
      },
      "execution_count": 13,
      "outputs": [
        {
          "output_type": "stream",
          "name": "stdout",
          "text": [
            "주차공간: 4.8m × 2.3m, 사용가능: True\n"
          ]
        }
      ]
    },
    {
      "cell_type": "markdown",
      "source": [
        " 배터리 상태 언패킹"
      ],
      "metadata": {
        "id": "NQ--grb-QddU"
      }
    },
    {
      "cell_type": "code",
      "source": [
        "battery_info = (85, 320, 'normal')  # 잔량(%), 주행가능거리(km), 상태\n",
        "\n",
        "charge_level, remaining_range, battery_status = battery_info\n",
        "print(f\"배터리: {charge_level}%, {remaining_range}km 주행가능, 상태: {battery_status}\")\n",
        "\n",
        "print(\"\\n\" + \"=\"*50)"
      ],
      "metadata": {
        "colab": {
          "base_uri": "https://localhost:8080/"
        },
        "id": "_63poNW1QeNQ",
        "outputId": "b74ebf9e-7d1e-4b65-b28a-4fdfb7a34f17"
      },
      "execution_count": 14,
      "outputs": [
        {
          "output_type": "stream",
          "name": "stdout",
          "text": [
            "배터리: 85%, 320km 주행가능, 상태: normal\n",
            "\n",
            "==================================================\n"
          ]
        }
      ]
    },
    {
      "cell_type": "markdown",
      "source": [
        "## PART 2: Tuple Unpacking + 리스트 조합"
      ],
      "metadata": {
        "id": "WAF1MMYRQt1o"
      }
    },
    {
      "cell_type": "markdown",
      "source": [
        " 여러 센서 데이터를 리스트로 관리"
      ],
      "metadata": {
        "id": "LfapxYosQ0Gl"
      }
    },
    {
      "cell_type": "code",
      "source": [
        "sensor_readings = [\n",
        "    (8.5, 45, 'lidar'),      # 거리, 각도, 센서타입\n",
        "    (12.3, 0, 'camera'),     # 거리, 각도, 센서타입\n",
        "    (15.7, -30, 'radar'),    # 거리, 각도, 센서타입\n",
        "    (2.1, 90, 'ultrasonic')  # 거리, 각도, 센서타입\n",
        "]\n",
        "\n",
        "print(\"센서별 감지 정보:\")\n",
        "for sensor_data in sensor_readings:\n",
        "    dist, ang, sensor_type = sensor_data  # tuple unpacking\n",
        "    print(f\"{sensor_type}: {dist}m, {ang}도\")"
      ],
      "metadata": {
        "colab": {
          "base_uri": "https://localhost:8080/"
        },
        "id": "uWHZG50hQ2Du",
        "outputId": "4ec59f2d-c453-4d51-f8cd-7082b52d8c0f"
      },
      "execution_count": 15,
      "outputs": [
        {
          "output_type": "stream",
          "name": "stdout",
          "text": [
            "센서별 감지 정보:\n",
            "lidar: 8.5m, 45도\n",
            "camera: 12.3m, 0도\n",
            "radar: 15.7m, -30도\n",
            "ultrasonic: 2.1m, 90도\n"
          ]
        }
      ]
    },
    {
      "cell_type": "markdown",
      "source": [
        "경로 포인트들을 리스트로 관리"
      ],
      "metadata": {
        "id": "t4fiavBzRbyP"
      }
    },
    {
      "cell_type": "code",
      "source": [
        "waypoints = [\n",
        "    (0, 0, '출발지'),\n",
        "    (5, 3, '경유지1'),\n",
        "    (10, 8, '경유지2'),\n",
        "    (15, 12, '목적지')\n",
        "]\n",
        "\n",
        "print(\"\\n경로 계획:\")\n",
        "for point in waypoints:\n",
        "    x, y, name = point\n",
        "    print(f\"{name}: ({x}, {y})\")"
      ],
      "metadata": {
        "colab": {
          "base_uri": "https://localhost:8080/"
        },
        "id": "6S-xyDpQRe-I",
        "outputId": "5faf97a1-a7f9-419a-f136-651c8c21b188"
      },
      "execution_count": 16,
      "outputs": [
        {
          "output_type": "stream",
          "name": "stdout",
          "text": [
            "\n",
            "경로 계획:\n",
            "출발지: (0, 0)\n",
            "경유지1: (5, 3)\n",
            "경유지2: (10, 8)\n",
            "목적지: (15, 12)\n"
          ]
        }
      ]
    },
    {
      "cell_type": "markdown",
      "source": [
        "교차로 정보"
      ],
      "metadata": {
        "id": "qe-O_roBRhjZ"
      }
    },
    {
      "cell_type": "code",
      "source": [
        "intersections = [\n",
        "    ('서울역', 'green', 25),\n",
        "    ('시청', 'red', 40),\n",
        "    ('종로3가', 'yellow', 5),\n",
        "    ('을지로', 'green', 15)\n",
        "]\n",
        "\n",
        "print(\"\\n교차로 신호등 현황:\")\n",
        "for intersection in intersections:\n",
        "    name, signal_color, remaining_time = intersection\n",
        "    print(f\"{name}: {signal_color} ({remaining_time}초)\")\n",
        "\n",
        "print(\"\\n\" + \"=\"*50)"
      ],
      "metadata": {
        "colab": {
          "base_uri": "https://localhost:8080/"
        },
        "id": "7pUbgJYlRjwL",
        "outputId": "fc669184-8492-4cdd-9e7a-ec1e04f5cdf2"
      },
      "execution_count": 17,
      "outputs": [
        {
          "output_type": "stream",
          "name": "stdout",
          "text": [
            "\n",
            "교차로 신호등 현황:\n",
            "서울역: green (25초)\n",
            "시청: red (40초)\n",
            "종로3가: yellow (5초)\n",
            "을지로: green (15초)\n",
            "\n",
            "==================================================\n"
          ]
        }
      ]
    },
    {
      "cell_type": "markdown",
      "source": [
        "## PART 3: Tuple Unpacking + 딕셔너리 조합"
      ],
      "metadata": {
        "id": "Iixg7pv3Rmgw"
      }
    },
    {
      "cell_type": "markdown",
      "source": [
        "차량별 위치 정보를 딕셔너리로 관리"
      ],
      "metadata": {
        "id": "TeC7I4zfRpre"
      }
    },
    {
      "cell_type": "code",
      "source": [
        "vehicle_locations = {\n",
        "    'car_001': (127.1, 37.5, 60),    # 경도, 위도, 속도\n",
        "    'car_002': (127.2, 37.6, 45),\n",
        "    'car_003': (127.3, 37.4, 80),\n",
        "    'truck_001': (127.0, 37.3, 70)\n",
        "}\n",
        "\n",
        "print(\"차량별 현재 위치:\")\n",
        "for vehicle_id, location_data in vehicle_locations.items():\n",
        "    lon, lat, spd = location_data  # tuple unpacking\n",
        "    print(f\"{vehicle_id}: ({lon}, {lat}), {spd}km/h\")\n",
        "\n",
        "\n",
        "# 충전소 정보를 딕셔너리로 관리\n",
        "charging_stations = {\n",
        "    '강남충전소': (127.027, 37.498, 5, 2),    # 경도, 위도, 총슬롯, 사용중슬롯\n",
        "    '서초충전소': (127.032, 37.483, 8, 6),\n",
        "    '송파충전소': (127.105, 37.514, 6, 1)\n",
        "}\n",
        "\n",
        "print(\"\\n충전소 현황:\")\n",
        "for station_name, station_info in charging_stations.items():\n",
        "    lon, lat, total_slots, used_slots = station_info\n",
        "    available = total_slots - used_slots\n",
        "    print(f\"{station_name}: 위치({lon}, {lat}), 사용가능 {available}/{total_slots}슬롯\")\n",
        "\n",
        "\n",
        "# 주차장 구역별 정보\n",
        "parking_areas = {\n",
        "    'A구역': (50, 45, 'compact'),     # 총자리, 사용중, 차량크기\n",
        "    'B구역': (30, 30, 'standard'),\n",
        "    'C구역': (20, 15, 'large'),\n",
        "    'D구역': (15, 8, 'handicapped')\n",
        "}\n",
        "\n",
        "print(\"\\n주차장 현황:\")\n",
        "for area_name, area_info in parking_areas.items():\n",
        "    total, occupied, car_type = area_info\n",
        "    available = total - occupied\n",
        "    utilization = round((occupied / total) * 100, 1)\n",
        "    print(f\"{area_name} ({car_type}): {available}/{total}자리 사용가능 (사용률 {utilization}%)\")\n",
        "\n",
        "print(\"\\n\" + \"=\"*50)\n"
      ],
      "metadata": {
        "colab": {
          "base_uri": "https://localhost:8080/"
        },
        "id": "6jmTvwB2RrZF",
        "outputId": "aaa46f1c-b259-4b6a-8860-05dae28e0f37"
      },
      "execution_count": 19,
      "outputs": [
        {
          "output_type": "stream",
          "name": "stdout",
          "text": [
            "차량별 현재 위치:\n",
            "car_001: (127.1, 37.5), 60km/h\n",
            "car_002: (127.2, 37.6), 45km/h\n",
            "car_003: (127.3, 37.4), 80km/h\n",
            "truck_001: (127.0, 37.3), 70km/h\n",
            "\n",
            "충전소 현황:\n",
            "강남충전소: 위치(127.027, 37.498), 사용가능 3/5슬롯\n",
            "서초충전소: 위치(127.032, 37.483), 사용가능 2/8슬롯\n",
            "송파충전소: 위치(127.105, 37.514), 사용가능 5/6슬롯\n",
            "\n",
            "주차장 현황:\n",
            "A구역 (compact): 5/50자리 사용가능 (사용률 90.0%)\n",
            "B구역 (standard): 0/30자리 사용가능 (사용률 100.0%)\n",
            "C구역 (large): 5/20자리 사용가능 (사용률 75.0%)\n",
            "D구역 (handicapped): 7/15자리 사용가능 (사용률 53.3%)\n",
            "\n",
            "==================================================\n"
          ]
        }
      ]
    },
    {
      "cell_type": "markdown",
      "source": [
        "실시간 교통 데이터 (시간, 위치, 속도, 차량타입, 차선)"
      ],
      "metadata": {
        "id": "_DU_KE4zTL7U"
      }
    },
    {
      "cell_type": "code",
      "source": [
        "traffic_data = [\n",
        "    ('09:15', (127.1, 37.5), 45, 'sedan', 1),\n",
        "    ('09:16', (127.2, 37.6), 60, 'truck', 2),\n",
        "    ('09:17', (127.3, 37.4), 30, 'bus', 1),\n",
        "    ('09:18', (127.0, 37.3), 80, 'sedan', 3)\n",
        "]\n",
        "\n",
        "print(\"실시간 교통 모니터링:\")\n",
        "for data in traffic_data:\n",
        "    time, position, speed, vehicle_type, lane = data\n",
        "    lon, lat = position  # 중첩 tuple unpacking\n",
        "    print(f\"{time} | {vehicle_type} | ({lon}, {lat}) | {speed}km/h | {lane}차선\")\n",
        "\n",
        "# 사고 신고 데이터 (시간, 위치, 심각도, 처리상태)\n",
        "accident_reports = [\n",
        "    ('10:30', (127.15, 37.55), 'minor', False),\n",
        "    ('10:45', (127.25, 37.65), 'major', True),\n",
        "    ('11:00', (127.35, 37.45), 'minor', False)\n",
        "]\n",
        "\n",
        "print(\"\\n사고 신고 현황:\")\n",
        "for report in accident_reports:\n",
        "    time, location, severity, handled = report\n",
        "    lon, lat = location\n",
        "    status = \"처리완료\" if handled else \"처리중\"\n",
        "    print(f\"{time} | ({lon}, {lat}) | {severity} | {status}\")\n",
        "\n",
        "# 미처리 사고만 필터링\n",
        "print(\"\\n미처리 사고:\")\n",
        "for report in accident_reports:\n",
        "    time, location, severity, handled = report\n",
        "    if not handled:\n",
        "        lon, lat = location\n",
        "        print(f\"⚠️ {time} | ({lon}, {lat}) | {severity} - 즉시 처리 필요\")\n",
        "\n",
        "# 날씨별 권장 주행 조건 (날씨, 최대속도, 안전거리배수, 라이트사용)\n",
        "weather_conditions = [\n",
        "    ('맑음', 100, 1.0, False),\n",
        "    ('비', 80, 1.5, True),\n",
        "    ('눈', 60, 2.0, True),\n",
        "    ('안개', 50, 2.5, True)\n",
        "]\n",
        "\n",
        "current_weather = '비'  # 현재 날씨 설정\n",
        "\n",
        "print(f\"\\n현재 날씨: {current_weather}\")\n",
        "print(\"권장 주행 조건:\")\n",
        "for condition in weather_conditions:\n",
        "    weather, max_speed, distance_factor, lights_on = condition\n",
        "    if weather == current_weather:\n",
        "        print(f\"최대속도: {max_speed}km/h\")\n",
        "        print(f\"안전거리: 평소의 {distance_factor}배\")\n",
        "        print(f\"라이트 사용: {'필수' if lights_on else '선택'}\")\n",
        "        break"
      ],
      "metadata": {
        "colab": {
          "base_uri": "https://localhost:8080/"
        },
        "id": "LfXaH0ZWTOJr",
        "outputId": "7c86e199-ade0-4aef-de4e-5ca9ece0aa32"
      },
      "execution_count": 20,
      "outputs": [
        {
          "output_type": "stream",
          "name": "stdout",
          "text": [
            "실시간 교통 모니터링:\n",
            "09:15 | sedan | (127.1, 37.5) | 45km/h | 1차선\n",
            "09:16 | truck | (127.2, 37.6) | 60km/h | 2차선\n",
            "09:17 | bus | (127.3, 37.4) | 30km/h | 1차선\n",
            "09:18 | sedan | (127.0, 37.3) | 80km/h | 3차선\n",
            "\n",
            "사고 신고 현황:\n",
            "10:30 | (127.15, 37.55) | minor | 처리중\n",
            "10:45 | (127.25, 37.65) | major | 처리완료\n",
            "11:00 | (127.35, 37.45) | minor | 처리중\n",
            "\n",
            "미처리 사고:\n",
            "⚠️ 10:30 | (127.15, 37.55) | minor - 즉시 처리 필요\n",
            "⚠️ 11:00 | (127.35, 37.45) | minor - 즉시 처리 필요\n",
            "\n",
            "현재 날씨: 비\n",
            "권장 주행 조건:\n",
            "최대속도: 80km/h\n",
            "안전거리: 평소의 1.5배\n",
            "라이트 사용: 필수\n"
          ]
        }
      ]
    },
    {
      "cell_type": "markdown",
      "source": [
        "차량 상태 진단 결과 (차량ID, 엔진상태점수, 브레이크상태점수, 종합판정)"
      ],
      "metadata": {
        "id": "DtVBXQXCTWQY"
      }
    },
    {
      "cell_type": "code",
      "source": [
        "vehicle_diagnostics = {\n",
        "    'EV001': (95, 88, 'excellent'),\n",
        "    'EV002': (82, 75, 'good'),\n",
        "    'EV003': (65, 45, 'caution'),\n",
        "    'EV004': (45, 30, 'maintenance')\n",
        "}\n",
        "\n",
        "print(\"\\n차량 상태 진단:\")\n",
        "for vehicle_id, diagnosis in vehicle_diagnostics.items():\n",
        "    engine_score, brake_score, overall_status = diagnosis\n",
        "    avg_score = (engine_score + brake_score) / 2\n",
        "    print(f\"{vehicle_id}: 엔진 {engine_score}점, 브레이크 {brake_score}점, 평균 {avg_score:.1f}점 ({overall_status})\")\n",
        "\n",
        "# 정비 필요 차량 필터링\n",
        "print(\"\\n정비 필요 차량:\")\n",
        "for vehicle_id, diagnosis in vehicle_diagnostics.items():\n",
        "    engine_score, brake_score, overall_status = diagnosis\n",
        "    if overall_status in ['caution', 'maintenance']:\n",
        "        print(f\"🔧 {vehicle_id}: {overall_status} - 점검 필요\")"
      ],
      "metadata": {
        "colab": {
          "base_uri": "https://localhost:8080/"
        },
        "id": "w94oTx75TYko",
        "outputId": "890963db-8481-490e-941e-ddaaa6c83591"
      },
      "execution_count": 21,
      "outputs": [
        {
          "output_type": "stream",
          "name": "stdout",
          "text": [
            "\n",
            "차량 상태 진단:\n",
            "EV001: 엔진 95점, 브레이크 88점, 평균 91.5점 (excellent)\n",
            "EV002: 엔진 82점, 브레이크 75점, 평균 78.5점 (good)\n",
            "EV003: 엔진 65점, 브레이크 45점, 평균 55.0점 (caution)\n",
            "EV004: 엔진 45점, 브레이크 30점, 평균 37.5점 (maintenance)\n",
            "\n",
            "정비 필요 차량:\n",
            "🔧 EV003: caution - 점검 필요\n",
            "🔧 EV004: maintenance - 점검 필요\n"
          ]
        }
      ]
    }
  ]
}