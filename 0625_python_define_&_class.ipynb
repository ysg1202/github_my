{
  "nbformat": 4,
  "nbformat_minor": 0,
  "metadata": {
    "colab": {
      "provenance": [],
      "authorship_tag": "ABX9TyOOFEeq096yeQ5sh/2pe7Qv",
      "include_colab_link": true
    },
    "kernelspec": {
      "name": "python3",
      "display_name": "Python 3"
    },
    "language_info": {
      "name": "python"
    }
  },
  "cells": [
    {
      "cell_type": "markdown",
      "metadata": {
        "id": "view-in-github",
        "colab_type": "text"
      },
      "source": [
        "<a href=\"https://colab.research.google.com/github/ysg1202/github_my/blob/main/0625_python_define_%26_class.ipynb\" target=\"_parent\"><img src=\"https://colab.research.google.com/assets/colab-badge.svg\" alt=\"Open In Colab\"/></a>"
      ]
    },
    {
      "cell_type": "markdown",
      "source": [
        "**클래스 만들기**"
      ],
      "metadata": {
        "id": "EP6J_WqhrsnH"
      }
    },
    {
      "cell_type": "code",
      "execution_count": null,
      "metadata": {
        "id": "GspzlwHLVwfS"
      },
      "outputs": [],
      "source": [
        "class MyClass:\n",
        "  x = 5\n",
        "  y = 10\n",
        "  z = 1\n",
        "  i = 6"
      ]
    },
    {
      "cell_type": "markdown",
      "source": [
        "**객체 생성**"
      ],
      "metadata": {
        "id": "9fX20TF0rw25"
      }
    },
    {
      "cell_type": "code",
      "source": [
        "p1 = MyClass()\n",
        "print(p1.x, p1.z)\n",
        "print(MyClass.x)"
      ],
      "metadata": {
        "colab": {
          "base_uri": "https://localhost:8080/"
        },
        "id": "LQKldE20fvuZ",
        "outputId": "8de70284-ee9e-48b2-8fc4-d6423d6de3c1"
      },
      "execution_count": null,
      "outputs": [
        {
          "output_type": "stream",
          "name": "stdout",
          "text": [
            "5 1\n",
            "5\n"
          ]
        }
      ]
    },
    {
      "cell_type": "markdown",
      "source": [
        "**함수가 없는 객체의 문자열 표현**"
      ],
      "metadata": {
        "id": "dyOP1l83sqcq"
      }
    },
    {
      "cell_type": "code",
      "source": [
        "class Person:\n",
        "  def __init__(self, name, age):\n",
        "    self.name = name\n",
        "    self.age = age\n",
        "\n",
        "p1 = Person(\"John\", 36)\n",
        "\n",
        "print(p1.name)\n",
        "print(p1.age)"
      ],
      "metadata": {
        "colab": {
          "base_uri": "https://localhost:8080/"
        },
        "id": "x4qoGoCLgDmW",
        "outputId": "eea8395e-bebe-4cf2-c34f-8056a69c282c"
      },
      "execution_count": null,
      "outputs": [
        {
          "output_type": "stream",
          "name": "stdout",
          "text": [
            "John\n",
            "36\n"
          ]
        }
      ]
    },
    {
      "cell_type": "markdown",
      "source": [
        "**__str__() 사용한 객체의 문자열 표현**"
      ],
      "metadata": {
        "id": "b_jIspexr3L5"
      }
    },
    {
      "cell_type": "code",
      "source": [
        "class Person:\n",
        "  def __init__(self, name, age):\n",
        "    self.name = name\n",
        "    self.age = age\n",
        "\n",
        "  def __str__(self):\n",
        "    return f\"{self.name}({self.age})\"\n",
        "\n",
        "p1 = Person(\"John\", 36)\n",
        "print(p1)\n"
      ],
      "metadata": {
        "colab": {
          "base_uri": "https://localhost:8080/"
        },
        "id": "tYmQFBfKh82M",
        "outputId": "4b800337-9f63-418b-fae1-c5b503787ae0"
      },
      "execution_count": null,
      "outputs": [
        {
          "output_type": "stream",
          "name": "stdout",
          "text": [
            "John(36)\n"
          ]
        }
      ]
    },
    {
      "cell_type": "markdown",
      "source": [
        "**함수를 사용한 객체의 문자열 표현**"
      ],
      "metadata": {
        "id": "cxM1TlJhsKA2"
      }
    },
    {
      "cell_type": "code",
      "source": [
        "class Person:\n",
        "  def __init__(self, name, age):\n",
        "    self.name = name\n",
        "    self.age = age\n",
        "\n",
        "  def myfunc(self):\n",
        "    print(\"Hello my name is \" + self.name)\n",
        "\n",
        "p1 = Person(\"John\", 36)\n",
        "p1.myfunc()"
      ],
      "metadata": {
        "colab": {
          "base_uri": "https://localhost:8080/"
        },
        "id": "_RsFTeUditSi",
        "outputId": "f0e6268a-9368-4b0b-b083-da2161983192"
      },
      "execution_count": null,
      "outputs": [
        {
          "output_type": "stream",
          "name": "stdout",
          "text": [
            "Hello my name is John\n"
          ]
        }
      ]
    },
    {
      "cell_type": "markdown",
      "source": [
        "**self 대신 다른 이름 사용**"
      ],
      "metadata": {
        "id": "llwMWvDts7PI"
      }
    },
    {
      "cell_type": "code",
      "source": [
        "class Person:\n",
        "  def __init__(mysillyobject, name, age):\n",
        "    mysillyobject.name = name\n",
        "    mysillyobject.age = age\n",
        "\n",
        "  def myfunc(abc):\n",
        "    print(\"Hello my name is \" + abc.name)\n",
        "\n",
        "p1 = Person(\"John\", 36)\n",
        "p1.myfunc()"
      ],
      "metadata": {
        "colab": {
          "base_uri": "https://localhost:8080/"
        },
        "id": "xEmj4QrYl5UJ",
        "outputId": "5e21cdb3-c2ac-4207-e27e-ecd2e8dca92a"
      },
      "execution_count": null,
      "outputs": [
        {
          "output_type": "stream",
          "name": "stdout",
          "text": [
            "Hello my name is John\n"
          ]
        }
      ]
    },
    {
      "cell_type": "markdown",
      "source": [
        "**개체 속성, 개체 삭제**"
      ],
      "metadata": {
        "id": "q8N_DMO8tBU5"
      }
    },
    {
      "cell_type": "code",
      "source": [
        "p1.age = 40\n",
        "del p1.age\n",
        "del p1"
      ],
      "metadata": {
        "id": "CDxTYEnHmD09"
      },
      "execution_count": null,
      "outputs": []
    },
    {
      "cell_type": "markdown",
      "source": [
        "**class 내용 없을 경우 pass**"
      ],
      "metadata": {
        "id": "UOwjUQ9OtHYW"
      }
    },
    {
      "cell_type": "code",
      "source": [
        "class Person:\n",
        "  pass"
      ],
      "metadata": {
        "id": "ZV-tU6_wmOu-"
      },
      "execution_count": null,
      "outputs": []
    },
    {
      "cell_type": "markdown",
      "source": [
        "**속성이 여러개인 클래스**"
      ],
      "metadata": {
        "id": "OxO4JowDtQPs"
      }
    },
    {
      "cell_type": "code",
      "source": [
        "class Person:\n",
        "  def __init__(self, fname, lname):\n",
        "    self.firstname = fname\n",
        "    self.lastname = lname\n",
        "\n",
        "  def printname(self):\n",
        "    print(self.firstname, self.lastname)\n",
        "\n",
        "x = Person(\"John\", \"Doe\")\n",
        "x.printname()"
      ],
      "metadata": {
        "id": "SO1ks8CEtR7K"
      },
      "execution_count": null,
      "outputs": []
    },
    {
      "cell_type": "markdown",
      "source": [
        "**방향 전환**"
      ],
      "metadata": {
        "id": "t8X9YFlkwHVh"
      }
    },
    {
      "cell_type": "code",
      "source": [
        "def turn(self, direction):\n",
        "    print(f\"{self.name} {direction} 방향으로 회전 중.\")"
      ],
      "metadata": {
        "id": "6UcoCxO6wJIt"
      },
      "execution_count": 32,
      "outputs": []
    },
    {
      "cell_type": "markdown",
      "source": [
        "**속도 표시**"
      ],
      "metadata": {
        "id": "EM8eW6umwOGT"
      }
    },
    {
      "cell_type": "code",
      "source": [
        "def show_speed(self):\n",
        "    print(f\"{self.name} 현재 속도는 {self.speed}km/h입니다.\")"
      ],
      "metadata": {
        "id": "6s5sii3HwO7S"
      },
      "execution_count": null,
      "outputs": []
    },
    {
      "cell_type": "markdown",
      "source": [
        "**장애물 감지**"
      ],
      "metadata": {
        "id": "N8rjN1DpwRAq"
      }
    },
    {
      "cell_type": "code",
      "source": [
        "def detect_obstacle(self, distance):\n",
        "    if distance < 10:\n",
        "        print(\"⚠️ 장애물 감지! 정지합니다.\")\n",
        "        self.stop()\n",
        "    else:\n",
        "        print(\"도움말: 도로 이상 없음.\")"
      ],
      "metadata": {
        "id": "f43XUuLgwTPC"
      },
      "execution_count": null,
      "outputs": []
    },
    {
      "cell_type": "markdown",
      "source": [
        "**직진 주행**"
      ],
      "metadata": {
        "id": "r0RkPVSWwU31"
      }
    },
    {
      "cell_type": "code",
      "source": [
        "def drive(self):\n",
        "    self.speed += 10\n",
        "    print(f\"{self.name} 주행 중... 속도: {self.speed}km/h\")"
      ],
      "metadata": {
        "id": "3yG6fovhwXm6"
      },
      "execution_count": null,
      "outputs": []
    },
    {
      "cell_type": "markdown",
      "source": [
        "**정지**"
      ],
      "metadata": {
        "id": "ADf-10n-wYuY"
      }
    },
    {
      "cell_type": "code",
      "source": [
        "def stop(self):\n",
        "    self.speed = 0\n",
        "    print(f\"{self.name} 정지.\")"
      ],
      "metadata": {
        "id": "QHMLKqhXwbDk"
      },
      "execution_count": null,
      "outputs": []
    },
    {
      "cell_type": "markdown",
      "source": [
        "**객체 감지 클래스**"
      ],
      "metadata": {
        "id": "Xap7AlSGwetJ"
      }
    },
    {
      "cell_type": "code",
      "source": [
        "class ObjectDetector:\n",
        "    def detect(self, frame):\n",
        "        # 예시: 프레임에서 객체 감지 (가상)\n",
        "        return [(\"car\", 100, 200, 150, 250)]"
      ],
      "metadata": {
        "id": "iIrd8cqGwhK6"
      },
      "execution_count": null,
      "outputs": []
    },
    {
      "cell_type": "markdown",
      "source": [
        "**차량 정보 클래스**"
      ],
      "metadata": {
        "id": "hJiUJNS1wi5_"
      }
    },
    {
      "cell_type": "code",
      "source": [
        "class Vehicle:\n",
        "    def __init__(self, model, speed=0):\n",
        "        self.model = model\n",
        "        self.speed = speed\n",
        "\n",
        "    def accelerate(self):\n",
        "        self.speed += 10\n",
        "\n",
        "    def stop(self):\n",
        "        self.speed = 0"
      ],
      "metadata": {
        "id": "46Va_qT9wlDs"
      },
      "execution_count": null,
      "outputs": []
    },
    {
      "cell_type": "markdown",
      "source": [
        "**센서 입력 처리 클래스**"
      ],
      "metadata": {
        "id": "TErXBGMowm9k"
      }
    },
    {
      "cell_type": "code",
      "source": [
        "class Sensor:\n",
        "    def __init__(self, name):\n",
        "        self.name = name\n",
        "\n",
        "    def read(self):\n",
        "        print(f\"{self.name} 센서 값 읽는 중...\")"
      ],
      "metadata": {
        "id": "NEg_dhT1wpj_"
      },
      "execution_count": 33,
      "outputs": []
    },
    {
      "cell_type": "markdown",
      "source": [
        "**객체 추적 클래스**"
      ],
      "metadata": {
        "id": "wQ6goKY1ws_n"
      }
    },
    {
      "cell_type": "code",
      "source": [
        "class VehicleTracker:\n",
        "    def __init__(self):\n",
        "        self.tracks = {}\n",
        "        self.next_id = 0\n",
        "\n",
        "    def update_tracks(self, detections):\n",
        "        for det in detections:\n",
        "            self.tracks[self.next_id] = det\n",
        "            self.next_id += 1"
      ],
      "metadata": {
        "id": "kYhrh9LCwvVZ"
      },
      "execution_count": null,
      "outputs": []
    },
    {
      "cell_type": "markdown",
      "source": [
        "**주행 판단 클래스**"
      ],
      "metadata": {
        "id": "xYxF6tqBwxEg"
      }
    },
    {
      "cell_type": "code",
      "source": [
        "class DrivingController:\n",
        "    def make_decision(self, detections):\n",
        "        if len(detections) > 0:\n",
        "            return \"감속\"\n",
        "        else:\n",
        "            return \"정상 주행\""
      ],
      "metadata": {
        "id": "MW1DfORXwzF4"
      },
      "execution_count": 34,
      "outputs": []
    }
  ]
}