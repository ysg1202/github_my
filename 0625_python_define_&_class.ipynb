{
  "nbformat": 4,
  "nbformat_minor": 0,
  "metadata": {
    "colab": {
      "provenance": [],
      "authorship_tag": "ABX9TyMSaiojfwS9N7opllXSsti4",
      "include_colab_link": true
    },
    "kernelspec": {
      "name": "python3",
      "display_name": "Python 3"
    },
    "language_info": {
      "name": "python"
    }
  },
  "cells": [
    {
      "cell_type": "markdown",
      "metadata": {
        "id": "view-in-github",
        "colab_type": "text"
      },
      "source": [
        "<a href=\"https://colab.research.google.com/github/ysg1202/github_my/blob/main/0625_python_define_%26_class.ipynb\" target=\"_parent\"><img src=\"https://colab.research.google.com/assets/colab-badge.svg\" alt=\"Open In Colab\"/></a>"
      ]
    },
    {
      "cell_type": "markdown",
      "source": [
        "**클래스 만들기**"
      ],
      "metadata": {
        "id": "EP6J_WqhrsnH"
      }
    },
    {
      "cell_type": "code",
      "execution_count": 12,
      "metadata": {
        "id": "GspzlwHLVwfS"
      },
      "outputs": [],
      "source": [
        "class MyClass:\n",
        "  x = 5\n",
        "  y = 10\n",
        "  z = 1\n",
        "  i = 6"
      ]
    },
    {
      "cell_type": "markdown",
      "source": [
        "**객체 생성**"
      ],
      "metadata": {
        "id": "9fX20TF0rw25"
      }
    },
    {
      "cell_type": "code",
      "source": [
        "p1 = MyClass()\n",
        "print(p1.x, p1.z)\n",
        "print(MyClass.x)"
      ],
      "metadata": {
        "colab": {
          "base_uri": "https://localhost:8080/"
        },
        "id": "LQKldE20fvuZ",
        "outputId": "8de70284-ee9e-48b2-8fc4-d6423d6de3c1"
      },
      "execution_count": 15,
      "outputs": [
        {
          "output_type": "stream",
          "name": "stdout",
          "text": [
            "5 1\n",
            "5\n"
          ]
        }
      ]
    },
    {
      "cell_type": "markdown",
      "source": [
        "**함수가 없는 객체의 문자열 표현**"
      ],
      "metadata": {
        "id": "dyOP1l83sqcq"
      }
    },
    {
      "cell_type": "code",
      "source": [
        "class Person:\n",
        "  def __init__(self, name, age):\n",
        "    self.name = name\n",
        "    self.age = age\n",
        "\n",
        "p1 = Person(\"John\", 36)\n",
        "\n",
        "print(p1.name)\n",
        "print(p1.age)"
      ],
      "metadata": {
        "colab": {
          "base_uri": "https://localhost:8080/"
        },
        "id": "x4qoGoCLgDmW",
        "outputId": "eea8395e-bebe-4cf2-c34f-8056a69c282c"
      },
      "execution_count": 18,
      "outputs": [
        {
          "output_type": "stream",
          "name": "stdout",
          "text": [
            "John\n",
            "36\n"
          ]
        }
      ]
    },
    {
      "cell_type": "markdown",
      "source": [
        "**__str__() 사용한 객체의 문자열 표현**"
      ],
      "metadata": {
        "id": "b_jIspexr3L5"
      }
    },
    {
      "cell_type": "code",
      "source": [
        "class Person:\n",
        "  def __init__(self, name, age):\n",
        "    self.name = name\n",
        "    self.age = age\n",
        "\n",
        "  def __str__(self):\n",
        "    return f\"{self.name}({self.age})\"\n",
        "\n",
        "p1 = Person(\"John\", 36)\n",
        "print(p1)\n"
      ],
      "metadata": {
        "colab": {
          "base_uri": "https://localhost:8080/"
        },
        "id": "tYmQFBfKh82M",
        "outputId": "4b800337-9f63-418b-fae1-c5b503787ae0"
      },
      "execution_count": 20,
      "outputs": [
        {
          "output_type": "stream",
          "name": "stdout",
          "text": [
            "John(36)\n"
          ]
        }
      ]
    },
    {
      "cell_type": "markdown",
      "source": [
        "**함수를 사용한 객체의 문자열 표현**"
      ],
      "metadata": {
        "id": "cxM1TlJhsKA2"
      }
    },
    {
      "cell_type": "code",
      "source": [
        "class Person:\n",
        "  def __init__(self, name, age):\n",
        "    self.name = name\n",
        "    self.age = age\n",
        "\n",
        "  def myfunc(self):\n",
        "    print(\"Hello my name is \" + self.name)\n",
        "\n",
        "p1 = Person(\"John\", 36)\n",
        "p1.myfunc()"
      ],
      "metadata": {
        "colab": {
          "base_uri": "https://localhost:8080/"
        },
        "id": "_RsFTeUditSi",
        "outputId": "f0e6268a-9368-4b0b-b083-da2161983192"
      },
      "execution_count": 10,
      "outputs": [
        {
          "output_type": "stream",
          "name": "stdout",
          "text": [
            "Hello my name is John\n"
          ]
        }
      ]
    },
    {
      "cell_type": "markdown",
      "source": [
        "**self 대신 다른 이름 사용**"
      ],
      "metadata": {
        "id": "llwMWvDts7PI"
      }
    },
    {
      "cell_type": "code",
      "source": [
        "class Person:\n",
        "  def __init__(mysillyobject, name, age):\n",
        "    mysillyobject.name = name\n",
        "    mysillyobject.age = age\n",
        "\n",
        "  def myfunc(abc):\n",
        "    print(\"Hello my name is \" + abc.name)\n",
        "\n",
        "p1 = Person(\"John\", 36)\n",
        "p1.myfunc()"
      ],
      "metadata": {
        "colab": {
          "base_uri": "https://localhost:8080/"
        },
        "id": "xEmj4QrYl5UJ",
        "outputId": "5e21cdb3-c2ac-4207-e27e-ecd2e8dca92a"
      },
      "execution_count": 21,
      "outputs": [
        {
          "output_type": "stream",
          "name": "stdout",
          "text": [
            "Hello my name is John\n"
          ]
        }
      ]
    },
    {
      "cell_type": "markdown",
      "source": [
        "**개체 속성, 개체 삭제**"
      ],
      "metadata": {
        "id": "q8N_DMO8tBU5"
      }
    },
    {
      "cell_type": "code",
      "source": [
        "p1.age = 40\n",
        "del p1.age\n",
        "del p1"
      ],
      "metadata": {
        "id": "CDxTYEnHmD09"
      },
      "execution_count": 24,
      "outputs": []
    },
    {
      "cell_type": "markdown",
      "source": [
        "**class 내용 없을 경우 pass**"
      ],
      "metadata": {
        "id": "UOwjUQ9OtHYW"
      }
    },
    {
      "cell_type": "code",
      "source": [
        "class Person:\n",
        "  pass"
      ],
      "metadata": {
        "id": "ZV-tU6_wmOu-"
      },
      "execution_count": 25,
      "outputs": []
    },
    {
      "cell_type": "markdown",
      "source": [
        "**속성이 여러개인 클래스**"
      ],
      "metadata": {
        "id": "OxO4JowDtQPs"
      }
    },
    {
      "cell_type": "code",
      "source": [
        "class Person:\n",
        "  def __init__(self, fname, lname):\n",
        "    self.firstname = fname\n",
        "    self.lastname = lname\n",
        "\n",
        "  def printname(self):\n",
        "    print(self.firstname, self.lastname)\n",
        "\n",
        "x = Person(\"John\", \"Doe\")\n",
        "x.printname()"
      ],
      "metadata": {
        "id": "SO1ks8CEtR7K"
      },
      "execution_count": null,
      "outputs": []
    }
  ]
}