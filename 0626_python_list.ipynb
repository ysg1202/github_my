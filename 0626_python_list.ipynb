{
  "nbformat": 4,
  "nbformat_minor": 0,
  "metadata": {
    "colab": {
      "provenance": [],
      "authorship_tag": "ABX9TyOvnacF0vigrzz0rq5iDez0",
      "include_colab_link": true
    },
    "kernelspec": {
      "name": "python3",
      "display_name": "Python 3"
    },
    "language_info": {
      "name": "python"
    }
  },
  "cells": [
    {
      "cell_type": "markdown",
      "metadata": {
        "id": "view-in-github",
        "colab_type": "text"
      },
      "source": [
        "<a href=\"https://colab.research.google.com/github/ysg1202/github_my/blob/main/0626_python_list.ipynb\" target=\"_parent\"><img src=\"https://colab.research.google.com/assets/colab-badge.svg\" alt=\"Open In Colab\"/></a>"
      ]
    },
    {
      "cell_type": "markdown",
      "source": [
        "**리스트 생성**"
      ],
      "metadata": {
        "id": "CTkcC-yy0uKo"
      }
    },
    {
      "cell_type": "code",
      "source": [
        "mylist = [\"apple\", \"banana\", \"cherry\"]"
      ],
      "metadata": {
        "id": "WO8Ux9MQ0LQD"
      },
      "execution_count": 1,
      "outputs": []
    },
    {
      "cell_type": "markdown",
      "source": [
        "**리스트 출력**"
      ],
      "metadata": {
        "id": "X-SdEAvq00op"
      }
    },
    {
      "cell_type": "code",
      "source": [
        "thislist = [\"apple\", \"banana\", \"cherry\"]\n",
        "print(thislist)"
      ],
      "metadata": {
        "colab": {
          "base_uri": "https://localhost:8080/"
        },
        "id": "MSJAIwgw0xKz",
        "outputId": "5703e90c-2cc0-435b-e6f0-363cd9640b9a"
      },
      "execution_count": 2,
      "outputs": [
        {
          "output_type": "stream",
          "name": "stdout",
          "text": [
            "['apple', 'banana', 'cherry']\n"
          ]
        }
      ]
    },
    {
      "cell_type": "markdown",
      "source": [
        "**리스트는 중복 값 허용**"
      ],
      "metadata": {
        "id": "__ZI7u6W04OB"
      }
    },
    {
      "cell_type": "code",
      "source": [
        "thislist = [\"apple\", \"banana\", \"cherry\", \"apple\", \"cherry\"]\n",
        "print(thislist)"
      ],
      "metadata": {
        "colab": {
          "base_uri": "https://localhost:8080/"
        },
        "id": "bGcXyGlF08e9",
        "outputId": "b5c2a67a-c768-435f-a7a5-3e9794f89663"
      },
      "execution_count": 3,
      "outputs": [
        {
          "output_type": "stream",
          "name": "stdout",
          "text": [
            "['apple', 'banana', 'cherry', 'apple', 'cherry']\n"
          ]
        }
      ]
    },
    {
      "cell_type": "markdown",
      "source": [
        "**리스트의 항목 개수 출력**"
      ],
      "metadata": {
        "id": "5yAIu1x20_Wf"
      }
    },
    {
      "cell_type": "code",
      "source": [
        "thislist = [\"apple\", \"banana\", \"cherry\"]\n",
        "print(len(thislist))"
      ],
      "metadata": {
        "colab": {
          "base_uri": "https://localhost:8080/"
        },
        "id": "fdy-sXcE1EcL",
        "outputId": "c731a80f-e81a-49ff-8a95-28615d6057cd"
      },
      "execution_count": 4,
      "outputs": [
        {
          "output_type": "stream",
          "name": "stdout",
          "text": [
            "3\n"
          ]
        }
      ]
    },
    {
      "cell_type": "markdown",
      "source": [
        "**리스트 데이터 유형**"
      ],
      "metadata": {
        "id": "nt_kbIYE1Hmr"
      }
    },
    {
      "cell_type": "code",
      "source": [
        "list1 = [\"apple\", \"banana\", \"cherry\"]\n",
        "list2 = [1, 5, 7, 9, 3]\n",
        "list3 = [True, False, False]\n",
        "list4 = [\"abc\", 34, True, 40, \"male\"]"
      ],
      "metadata": {
        "id": "XxV8c0dQ1Kgj"
      },
      "execution_count": 5,
      "outputs": []
    },
    {
      "cell_type": "markdown",
      "source": [
        "**리스트 타입**"
      ],
      "metadata": {
        "id": "BsET6qUr1e4O"
      }
    },
    {
      "cell_type": "code",
      "source": [
        "mylist = [\"apple\", \"banana\", \"cherry\", 100, True]\n",
        "print(type(mylist))"
      ],
      "metadata": {
        "colab": {
          "base_uri": "https://localhost:8080/"
        },
        "id": "3VkT-isQ1iUz",
        "outputId": "c7569d00-53e6-4d88-f082-7fa01944ff06"
      },
      "execution_count": 66,
      "outputs": [
        {
          "output_type": "stream",
          "name": "stdout",
          "text": [
            "<class 'list'>\n"
          ]
        }
      ]
    },
    {
      "cell_type": "markdown",
      "source": [
        "**list() 생성자**"
      ],
      "metadata": {
        "id": "2K20mtd11lO6"
      }
    },
    {
      "cell_type": "code",
      "source": [
        "thislist = list((\"apple\", \"banana\", \"cherry\"))\n",
        "print(thislist)"
      ],
      "metadata": {
        "colab": {
          "base_uri": "https://localhost:8080/"
        },
        "id": "X6Lk2pMY1oWv",
        "outputId": "04a3b3bb-8c20-460f-9a22-09647d0e01c6"
      },
      "execution_count": 9,
      "outputs": [
        {
          "output_type": "stream",
          "name": "stdout",
          "text": [
            "['apple', 'banana', 'cherry']\n"
          ]
        }
      ]
    },
    {
      "cell_type": "markdown",
      "source": [
        "**리스트 인덱스**"
      ],
      "metadata": {
        "id": "jRfQWQNa1uO6"
      }
    },
    {
      "cell_type": "code",
      "source": [
        "thislist = [\"apple\", \"banana\", \"cherry\"]\n",
        "print(thislist[1])"
      ],
      "metadata": {
        "colab": {
          "base_uri": "https://localhost:8080/"
        },
        "id": "XMUuF9Gg1sMn",
        "outputId": "d98187b6-df70-456f-c972-5a6cb5d5bea7"
      },
      "execution_count": 10,
      "outputs": [
        {
          "output_type": "stream",
          "name": "stdout",
          "text": [
            "banana\n"
          ]
        }
      ]
    },
    {
      "cell_type": "markdown",
      "source": [
        "**음수 인덱싱**"
      ],
      "metadata": {
        "id": "wpDiCcvZ106G"
      }
    },
    {
      "cell_type": "code",
      "source": [
        "thislist = [\"apple\", \"banana\", \"cherry\", True]\n",
        "print(thislist[-1])"
      ],
      "metadata": {
        "colab": {
          "base_uri": "https://localhost:8080/"
        },
        "id": "axUcXpsd146w",
        "outputId": "678ab3b3-5340-4b61-a4fc-62e4c3f7439d"
      },
      "execution_count": 67,
      "outputs": [
        {
          "output_type": "stream",
          "name": "stdout",
          "text": [
            "True\n"
          ]
        }
      ]
    },
    {
      "cell_type": "markdown",
      "source": [
        "**인덱스 범위**"
      ],
      "metadata": {
        "id": "HN-7SYql18H9"
      }
    },
    {
      "cell_type": "code",
      "source": [
        "thislist = [\"apple\", \"banana\", \"cherry\", 10, \"orange\", \"kiwi\", \"melon\", \"mango\"]\n",
        "print(thislist[2:5])\n",
        "print(thislist[:4])\n",
        "print(thislist[2:])\n",
        "print(thislist[-4:-1])"
      ],
      "metadata": {
        "colab": {
          "base_uri": "https://localhost:8080/"
        },
        "id": "RDnY0mWM199R",
        "outputId": "9f071e76-3732-46a9-cefd-75bf5847dc87"
      },
      "execution_count": 68,
      "outputs": [
        {
          "output_type": "stream",
          "name": "stdout",
          "text": [
            "['cherry', 10, 'orange']\n",
            "['apple', 'banana', 'cherry', 10]\n",
            "['cherry', 10, 'orange', 'kiwi', 'melon', 'mango']\n",
            "['orange', 'kiwi', 'melon']\n"
          ]
        }
      ]
    },
    {
      "cell_type": "markdown",
      "source": [
        "**리스트 항목의 조건문**"
      ],
      "metadata": {
        "id": "VvBV63Ya2HHI"
      }
    },
    {
      "cell_type": "code",
      "source": [
        "thislist = [\"apple\", \"banana\", \"cherry\"]\n",
        "if \"apple\" in thislist:\n",
        "  print(\"Yes, 'apple' is in the fruits list\")"
      ],
      "metadata": {
        "colab": {
          "base_uri": "https://localhost:8080/"
        },
        "id": "u_3mUYaH2L6a",
        "outputId": "3866d3c1-8db3-456e-e59d-f018e0ede610"
      },
      "execution_count": 14,
      "outputs": [
        {
          "output_type": "stream",
          "name": "stdout",
          "text": [
            "Yes, 'apple' is in the fruits list\n"
          ]
        }
      ]
    },
    {
      "cell_type": "markdown",
      "source": [
        "**항목 값 변경**"
      ],
      "metadata": {
        "id": "QVzJZaUd2NJ3"
      }
    },
    {
      "cell_type": "code",
      "source": [
        "thislist = [\"apple\", \"banana\", \"cherry\"]\n",
        "thislist[1] = \"blackcurrant\"\n",
        "print(thislist)"
      ],
      "metadata": {
        "colab": {
          "base_uri": "https://localhost:8080/"
        },
        "id": "uUg4CbtC2QYQ",
        "outputId": "60409ec2-48c0-498c-d47e-92845179d97a"
      },
      "execution_count": 15,
      "outputs": [
        {
          "output_type": "stream",
          "name": "stdout",
          "text": [
            "['apple', 'blackcurrant', 'cherry']\n"
          ]
        }
      ]
    },
    {
      "cell_type": "markdown",
      "source": [
        "**항목 값 범위 변경**"
      ],
      "metadata": {
        "id": "HmEXV4Qq2T1D"
      }
    },
    {
      "cell_type": "code",
      "source": [
        "thislist = [\"apple\", \"banana\", \"cherry\", \"orange\", \"kiwi\", \"mango\"]\n",
        "thislist[1:3] = [\"blackcurrant\", \"watermelon\"]\n",
        "print(thislist)"
      ],
      "metadata": {
        "colab": {
          "base_uri": "https://localhost:8080/"
        },
        "id": "wsbUYYzy2Vg_",
        "outputId": "c7a45df5-69fb-4584-ac16-bd06386ef455"
      },
      "execution_count": 16,
      "outputs": [
        {
          "output_type": "stream",
          "name": "stdout",
          "text": [
            "['apple', 'blackcurrant', 'watermelon', 'orange', 'kiwi', 'mango']\n"
          ]
        }
      ]
    },
    {
      "cell_type": "markdown",
      "source": [
        "**두 번째 값을 두 개의 새 값 으로 바꿔서 변경**"
      ],
      "metadata": {
        "id": "Lzac661Q2cet"
      }
    },
    {
      "cell_type": "code",
      "source": [
        "thislist = [\"apple\", \"banana\", \"cherry\"]\n",
        "thislist[1:2] = [\"blackcurrant\", \"watermelon\"]\n",
        "print(thislist)"
      ],
      "metadata": {
        "colab": {
          "base_uri": "https://localhost:8080/"
        },
        "id": "x0E0ROub2fFc",
        "outputId": "1720f190-334a-4cbb-b4e9-9d72af3ede14"
      },
      "execution_count": 17,
      "outputs": [
        {
          "output_type": "stream",
          "name": "stdout",
          "text": [
            "['apple', 'blackcurrant', 'watermelon', 'cherry']\n"
          ]
        }
      ]
    },
    {
      "cell_type": "markdown",
      "source": [
        "**두 번째와 세 번째 값을 하나의 값 으로 바꿔서 변경**"
      ],
      "metadata": {
        "id": "cFibB-0X2jfE"
      }
    },
    {
      "cell_type": "code",
      "source": [
        "thislist = [\"apple\", \"banana\", \"cherry\"]\n",
        "thislist[1:3] = [\"watermelon\"]\n",
        "print(thislist)"
      ],
      "metadata": {
        "colab": {
          "base_uri": "https://localhost:8080/"
        },
        "id": "x_p-b3ss2mID",
        "outputId": "3faa3eb6-ab0b-4b89-dfc8-1ad05f3e511b"
      },
      "execution_count": 18,
      "outputs": [
        {
          "output_type": "stream",
          "name": "stdout",
          "text": [
            "['apple', 'watermelon']\n"
          ]
        }
      ]
    },
    {
      "cell_type": "markdown",
      "source": [
        "**지정된 인덱스에 항목 삽입**"
      ],
      "metadata": {
        "id": "6LuRrqey2oQn"
      }
    },
    {
      "cell_type": "code",
      "source": [
        "thislist = [\"apple\", \"banana\", \"cherry\"]\n",
        "thislist.insert(2, \"watermelon\")\n",
        "print(thislist)"
      ],
      "metadata": {
        "colab": {
          "base_uri": "https://localhost:8080/"
        },
        "id": "4ilIA5uX2qpM",
        "outputId": "12018740-e09f-47cb-d02e-18c531a4112c"
      },
      "execution_count": 19,
      "outputs": [
        {
          "output_type": "stream",
          "name": "stdout",
          "text": [
            "['apple', 'banana', 'watermelon', 'cherry']\n"
          ]
        }
      ]
    },
    {
      "cell_type": "markdown",
      "source": [
        "**마지막 인덱스에 항목 추가**"
      ],
      "metadata": {
        "id": "8gG1iTRr2xle"
      }
    },
    {
      "cell_type": "code",
      "source": [
        "thislist = [\"apple\", \"banana\", \"cherry\"]\n",
        "thislist.append(\"orange\")\n",
        "print(thislist)"
      ],
      "metadata": {
        "colab": {
          "base_uri": "https://localhost:8080/"
        },
        "id": "I4WL8uZn22pK",
        "outputId": "ae1ad5ce-8e96-4ff5-837e-00d7e9adea9c"
      },
      "execution_count": 20,
      "outputs": [
        {
          "output_type": "stream",
          "name": "stdout",
          "text": [
            "['apple', 'banana', 'cherry', 'orange']\n"
          ]
        }
      ]
    },
    {
      "cell_type": "markdown",
      "source": [
        "**tropical의 요소를 추가**"
      ],
      "metadata": {
        "id": "wJItHhSE28k4"
      }
    },
    {
      "cell_type": "code",
      "source": [
        "thislist = [\"apple\", \"banana\", \"cherry\"]\n",
        "tropical = [\"mango\", \"pineapple\", \"papaya\"]\n",
        "thislist.extend(tropical)\n",
        "print(thislist)"
      ],
      "metadata": {
        "colab": {
          "base_uri": "https://localhost:8080/"
        },
        "id": "v88zgFC529pp",
        "outputId": "a20a1cce-c1b5-43d8-ec20-7d0579d83684"
      },
      "execution_count": 21,
      "outputs": [
        {
          "output_type": "stream",
          "name": "stdout",
          "text": [
            "['apple', 'banana', 'cherry', 'mango', 'pineapple', 'papaya']\n"
          ]
        }
      ]
    },
    {
      "cell_type": "markdown",
      "source": [
        "**튜플의 요소를 리스트에 추가**"
      ],
      "metadata": {
        "id": "0D-mJZzY3EZh"
      }
    },
    {
      "cell_type": "code",
      "source": [
        "thislist = [\"apple\", \"banana\", \"cherry\"]\n",
        "thistuple = (\"kiwi\", \"orange\")\n",
        "thislist.extend(thistuple)\n",
        "print(thislist)"
      ],
      "metadata": {
        "colab": {
          "base_uri": "https://localhost:8080/"
        },
        "id": "2YSpfQDb3Fk5",
        "outputId": "c63571ae-2bce-4701-9db5-fb67d4efe9c9"
      },
      "execution_count": 22,
      "outputs": [
        {
          "output_type": "stream",
          "name": "stdout",
          "text": [
            "['apple', 'banana', 'cherry', 'kiwi', 'orange']\n"
          ]
        }
      ]
    },
    {
      "cell_type": "markdown",
      "source": [
        "**지정된 항목 제거**"
      ],
      "metadata": {
        "id": "ftQJU_0p3Ioe"
      }
    },
    {
      "cell_type": "code",
      "source": [
        "thislist = [\"apple\", \"banana\", \"cherry\", False, 100]\n",
        "thislist.remove(\"banana\")\n",
        "print(thislist)"
      ],
      "metadata": {
        "colab": {
          "base_uri": "https://localhost:8080/"
        },
        "id": "qQGxIaqa3LSp",
        "outputId": "92680534-92a2-46e7-80c7-5475d78e90c1"
      },
      "execution_count": 23,
      "outputs": [
        {
          "output_type": "stream",
          "name": "stdout",
          "text": [
            "['apple', 'cherry']\n"
          ]
        }
      ]
    },
    {
      "cell_type": "markdown",
      "source": [
        "**항목이 두 개 이상 있는 경우 이 remove()는 첫 번째 항목을 제거**"
      ],
      "metadata": {
        "id": "MIRjRCPS3N5i"
      }
    },
    {
      "cell_type": "code",
      "source": [
        "thislist = [\"apple\", \"banana\", \"cherry\", \"banana\", \"kiwi\"]\n",
        "thislist.remove(\"banana\")\n",
        "print(thislist)"
      ],
      "metadata": {
        "colab": {
          "base_uri": "https://localhost:8080/"
        },
        "id": "Rf3bjFIV3Rbe",
        "outputId": "4b4db0de-ffb5-4feb-ab9b-c37371bae476"
      },
      "execution_count": 24,
      "outputs": [
        {
          "output_type": "stream",
          "name": "stdout",
          "text": [
            "['apple', 'cherry', 'banana', 'kiwi']\n"
          ]
        }
      ]
    },
    {
      "cell_type": "markdown",
      "source": [
        "**지정된 인덱스 제거**"
      ],
      "metadata": {
        "id": "Y7-JMo4W3WYv"
      }
    },
    {
      "cell_type": "code",
      "source": [
        "thislist = [\"apple\", \"banana\", \"cherry\"]\n",
        "thislist.pop(1)\n",
        "print(thislist)"
      ],
      "metadata": {
        "colab": {
          "base_uri": "https://localhost:8080/"
        },
        "id": "mbHQsPdr3aTx",
        "outputId": "059f6659-2274-45ba-c588-a03e5b55534f"
      },
      "execution_count": 25,
      "outputs": [
        {
          "output_type": "stream",
          "name": "stdout",
          "text": [
            "['apple', 'cherry']\n"
          ]
        }
      ]
    },
    {
      "cell_type": "markdown",
      "source": [
        "**인덱스를 지정하지 않으면 이 pop()은 마지막 항목을 제거**"
      ],
      "metadata": {
        "id": "7p4EOswr3d05"
      }
    },
    {
      "cell_type": "code",
      "source": [
        "thislist = [\"apple\", \"banana\", \"cherry\"]\n",
        "thislist.pop()\n",
        "print(thislist)"
      ],
      "metadata": {
        "colab": {
          "base_uri": "https://localhost:8080/"
        },
        "id": "c1dW_xTo3jD8",
        "outputId": "5e7907ba-65ba-4a84-a0f8-43d39732f720"
      },
      "execution_count": 26,
      "outputs": [
        {
          "output_type": "stream",
          "name": "stdout",
          "text": [
            "['apple', 'banana']\n"
          ]
        }
      ]
    },
    {
      "cell_type": "markdown",
      "source": [
        "**지정된 인덱스 제거**"
      ],
      "metadata": {
        "id": "6B6Tl1IM3lU8"
      }
    },
    {
      "cell_type": "code",
      "source": [
        "thislist = [\"apple\", \"banana\", \"cherry\"]\n",
        "del thislist[0]\n",
        "print(thislist)"
      ],
      "metadata": {
        "colab": {
          "base_uri": "https://localhost:8080/"
        },
        "id": "EEJUPbdf3ov9",
        "outputId": "0e070908-f2f5-419f-a969-e4004fc4c9df"
      },
      "execution_count": 27,
      "outputs": [
        {
          "output_type": "stream",
          "name": "stdout",
          "text": [
            "['banana', 'cherry']\n"
          ]
        }
      ]
    },
    {
      "cell_type": "markdown",
      "source": [
        "**전체 목록을 삭제**"
      ],
      "metadata": {
        "id": "Qdf1MVNq3s_n"
      }
    },
    {
      "cell_type": "code",
      "source": [
        "thislist = [\"apple\", \"banana\", \"cherry\"]\n",
        "del thislist"
      ],
      "metadata": {
        "id": "YkCVIeiz3ukL"
      },
      "execution_count": 28,
      "outputs": []
    },
    {
      "cell_type": "markdown",
      "source": [
        "**리스트의 항목들만 제거**"
      ],
      "metadata": {
        "id": "WD2whoRc3xLh"
      }
    },
    {
      "cell_type": "code",
      "source": [
        "thislist = [\"apple\", \"banana\", \"cherry\"]\n",
        "thislist.clear()\n",
        "print(thislist)"
      ],
      "metadata": {
        "colab": {
          "base_uri": "https://localhost:8080/"
        },
        "id": "IKOn9LlC3064",
        "outputId": "7bacab74-e84b-48dd-8a58-5d6e2659ef46"
      },
      "execution_count": 29,
      "outputs": [
        {
          "output_type": "stream",
          "name": "stdout",
          "text": [
            "[]\n"
          ]
        }
      ]
    },
    {
      "cell_type": "markdown",
      "source": [
        "**항목 반복 for**"
      ],
      "metadata": {
        "id": "0zwPB-ZB34ff"
      }
    },
    {
      "cell_type": "code",
      "source": [
        "thislist = [\"apple\", \"banana\", \"cherry\"]\n",
        "for x in thislist:\n",
        "  print(x)"
      ],
      "metadata": {
        "colab": {
          "base_uri": "https://localhost:8080/"
        },
        "id": "ER11BVnb37OV",
        "outputId": "1f4f94b5-bb63-4208-9864-6061e78a7716"
      },
      "execution_count": 30,
      "outputs": [
        {
          "output_type": "stream",
          "name": "stdout",
          "text": [
            "apple\n",
            "banana\n",
            "cherry\n"
          ]
        }
      ]
    },
    {
      "cell_type": "markdown",
      "source": [
        "**인덱스 번호 반복**"
      ],
      "metadata": {
        "id": "ulIqPMIb3_BM"
      }
    },
    {
      "cell_type": "code",
      "source": [
        "thislist = [\"apple\", \"banana\", \"cherry\"]\n",
        "for i in range(len(thislist)):\n",
        "  print(thislist[i])"
      ],
      "metadata": {
        "colab": {
          "base_uri": "https://localhost:8080/"
        },
        "id": "5NvtFoc24AXb",
        "outputId": "3bf55838-4451-413a-a333-6a4009612986"
      },
      "execution_count": 31,
      "outputs": [
        {
          "output_type": "stream",
          "name": "stdout",
          "text": [
            "apple\n",
            "banana\n",
            "cherry\n"
          ]
        }
      ]
    },
    {
      "cell_type": "markdown",
      "source": [
        "**항목 반복 while**"
      ],
      "metadata": {
        "id": "quN1nXcA4CMm"
      }
    },
    {
      "cell_type": "code",
      "source": [
        "thislist = [\"apple\", \"banana\", \"cherry\"]\n",
        "i = 0\n",
        "while i < len(thislist):\n",
        "  print(thislist[i])\n",
        "  i = i + 1"
      ],
      "metadata": {
        "colab": {
          "base_uri": "https://localhost:8080/"
        },
        "id": "p6rOELkr4MJI",
        "outputId": "1981ba7c-43db-4291-d16d-ff946b2beec8"
      },
      "execution_count": 32,
      "outputs": [
        {
          "output_type": "stream",
          "name": "stdout",
          "text": [
            "apple\n",
            "banana\n",
            "cherry\n"
          ]
        }
      ]
    },
    {
      "cell_type": "markdown",
      "source": [
        "**반복문 간결한 코드**"
      ],
      "metadata": {
        "id": "Hq5BMnO84Pnx"
      }
    },
    {
      "cell_type": "code",
      "source": [
        "thislist = [\"apple\", \"banana\", \"cherry\"]\n",
        "[print(x) for x in thislist]"
      ],
      "metadata": {
        "colab": {
          "base_uri": "https://localhost:8080/"
        },
        "id": "F3U-gQ094WHd",
        "outputId": "f2353bb3-1ec8-472b-cb77-12c51a5af3c8"
      },
      "execution_count": 33,
      "outputs": [
        {
          "output_type": "stream",
          "name": "stdout",
          "text": [
            "apple\n",
            "banana\n",
            "cherry\n"
          ]
        },
        {
          "output_type": "execute_result",
          "data": {
            "text/plain": [
              "[None, None, None]"
            ]
          },
          "metadata": {},
          "execution_count": 33
        }
      ]
    },
    {
      "cell_type": "markdown",
      "source": [
        "**'a'글자가 있는 과일만 있는 리스트를 새로 생성**"
      ],
      "metadata": {
        "id": "SLVFUJdc4t5v"
      }
    },
    {
      "cell_type": "code",
      "source": [
        "fruits = [\"apple\", \"banana\", \"cherry\", \"kiwi\", \"mango\"]\n",
        "newlist = []\n",
        "\n",
        "for x in fruits:\n",
        "  if \"a\" in x:\n",
        "    newlist.append(x)\n",
        "\n",
        "print(newlist)"
      ],
      "metadata": {
        "colab": {
          "base_uri": "https://localhost:8080/"
        },
        "id": "VBYqU0-_5amW",
        "outputId": "785d92e9-9310-4fb4-f7c8-6c7f598473e2"
      },
      "execution_count": 34,
      "outputs": [
        {
          "output_type": "stream",
          "name": "stdout",
          "text": [
            "['apple', 'banana', 'mango']\n"
          ]
        }
      ]
    },
    {
      "cell_type": "markdown",
      "source": [
        "**5보다 작은 숫자만 허용**"
      ],
      "metadata": {
        "id": "0B_WXSfF5iJq"
      }
    },
    {
      "cell_type": "code",
      "source": [
        "newlist = [x for x in range(10) if x < 5]\n",
        "print(newlist)"
      ],
      "metadata": {
        "colab": {
          "base_uri": "https://localhost:8080/"
        },
        "id": "HuvB4x7r50rz",
        "outputId": "75fee9fa-0753-4a99-bfed-c116ed6ef0f5"
      },
      "execution_count": 36,
      "outputs": [
        {
          "output_type": "stream",
          "name": "stdout",
          "text": [
            "[0, 1, 2, 3, 4]\n"
          ]
        }
      ]
    },
    {
      "cell_type": "markdown",
      "source": [
        "**새 목록의 값을 대문자로 설정**"
      ],
      "metadata": {
        "id": "bJbjl-ZA6Mh7"
      }
    },
    {
      "cell_type": "code",
      "source": [
        "newlist = [x.upper() for x in fruits]\n",
        "print(newlist)"
      ],
      "metadata": {
        "colab": {
          "base_uri": "https://localhost:8080/"
        },
        "id": "LwXFyCWE6Nvg",
        "outputId": "386ec89c-5337-4c58-9965-b925ee495f94"
      },
      "execution_count": 38,
      "outputs": [
        {
          "output_type": "stream",
          "name": "stdout",
          "text": [
            "['APPLE', 'BANANA', 'CHERRY', 'KIWI', 'MANGO']\n"
          ]
        }
      ]
    },
    {
      "cell_type": "markdown",
      "source": [
        "**1. 경로상의 모든 목표점 출력**"
      ],
      "metadata": {
        "id": "KFSj0d0b6Zcu"
      }
    },
    {
      "cell_type": "code",
      "source": [
        "waypoints = [\n",
        "    [127.123, 37.456], [127.126, 37.456],\n",
        "    [127.130, 37.463], [127.134, 37.462],\n",
        "    [127.139, 37.468], [127.143, 37.474],\n",
        "    [127.145, 37.478]\n",
        "]"
      ],
      "metadata": {
        "id": "To79ptsG6zcb"
      },
      "execution_count": 39,
      "outputs": []
    },
    {
      "cell_type": "code",
      "source": [
        "i = 1 # 출력시 번호 순서를 매기기 위해 1로 초기화\n",
        "for point in waypoints:\n",
        "    print(f\"Waypoint {i}: 경도={point[0]}, 위도={point[1]}\")\n",
        "    i += 1"
      ],
      "metadata": {
        "colab": {
          "base_uri": "https://localhost:8080/"
        },
        "id": "dvSE_qgC9I5K",
        "outputId": "29d50717-3785-4663-8dd2-cf51e43df56b"
      },
      "execution_count": 55,
      "outputs": [
        {
          "output_type": "stream",
          "name": "stdout",
          "text": [
            "Waypoint 1: 경도=127.123, 위도=37.456\n",
            "Waypoint 2: 경도=127.126, 위도=37.456\n",
            "Waypoint 3: 경도=127.13, 위도=37.463\n",
            "Waypoint 4: 경도=127.134, 위도=37.462\n",
            "Waypoint 5: 경도=127.139, 위도=37.468\n",
            "Waypoint 6: 경도=127.143, 위도=37.474\n",
            "Waypoint 7: 경도=127.145, 위도=37.478\n"
          ]
        }
      ]
    },
    {
      "cell_type": "markdown",
      "source": [
        "**2. 주행 중 신호등 상태 기록**"
      ],
      "metadata": {
        "id": "zEjXPoEU62iJ"
      }
    },
    {
      "cell_type": "code",
      "source": [
        "traffic_light_log = [\"GREEN\", \"GREEN\", \"YELLOW\", \"RED\", \"GREEN\"]"
      ],
      "metadata": {
        "id": "zoUwcJUE7M6g"
      },
      "execution_count": 40,
      "outputs": []
    },
    {
      "cell_type": "code",
      "source": [
        "i = 1\n",
        "for state in traffic_light_log:\n",
        "    print(f\"{i}번째 신호등 상태: {state}\")\n",
        "    i += 1"
      ],
      "metadata": {
        "colab": {
          "base_uri": "https://localhost:8080/"
        },
        "id": "HEIfaQ8A9Lyh",
        "outputId": "c1828acd-9afa-4280-ee79-ff6ecdc42a7b"
      },
      "execution_count": 50,
      "outputs": [
        {
          "output_type": "stream",
          "name": "stdout",
          "text": [
            "1번째 신호등 상태: GREEN\n",
            "2번째 신호등 상태: GREEN\n",
            "3번째 신호등 상태: YELLOW\n",
            "4번째 신호등 상태: RED\n",
            "5번째 신호등 상태: GREEN\n"
          ]
        }
      ]
    },
    {
      "cell_type": "markdown",
      "source": [
        "**3. 라이다 포인트클라우드 데이터**"
      ],
      "metadata": {
        "id": "5R-LxLqH7iua"
      }
    },
    {
      "cell_type": "code",
      "source": [
        "lidar_points = [\n",
        "    [12.3, -4.5, 1.2, 0.85],\n",
        "    [11.0, -3.8, 1.3, 0.72],\n",
        "    [10.1, -4.0, 1.4, 0.80],\n",
        "    [9.5, -3.5, 1.5, 0.60],\n",
        "    [8.7, -4.1, 1.1, 0.95]\n",
        "]"
      ],
      "metadata": {
        "id": "sr5EYqU47t6W"
      },
      "execution_count": 41,
      "outputs": []
    },
    {
      "cell_type": "code",
      "source": [
        "i = 1\n",
        "for point in lidar_points:\n",
        "    x = point[0]\n",
        "    y = point[1]\n",
        "    z = point[2]\n",
        "    intensity = point[3]\n",
        "    print(f\"{i}번 포인트: x={x}, y={y}, z={z}, 반사강도={intensity}\")\n",
        "    i += 1"
      ],
      "metadata": {
        "colab": {
          "base_uri": "https://localhost:8080/"
        },
        "id": "SznXPEHH9P84",
        "outputId": "820ad193-1670-4563-dedb-3d0f2f15b156"
      },
      "execution_count": 57,
      "outputs": [
        {
          "output_type": "stream",
          "name": "stdout",
          "text": [
            "1번 포인트: x=12.3, y=-4.5, z=1.2, 반사강도=0.85\n",
            "2번 포인트: x=11.0, y=-3.8, z=1.3, 반사강도=0.72\n",
            "3번 포인트: x=10.1, y=-4.0, z=1.4, 반사강도=0.8\n",
            "4번 포인트: x=9.5, y=-3.5, z=1.5, 반사강도=0.6\n",
            "5번 포인트: x=8.7, y=-4.1, z=1.1, 반사강도=0.95\n"
          ]
        }
      ]
    },
    {
      "cell_type": "markdown",
      "source": [
        "**4. 앞차와의 거리 리스트에서 충돌 여부 판단**"
      ],
      "metadata": {
        "id": "OogtIdQC7vYA"
      }
    },
    {
      "cell_type": "code",
      "source": [
        "front_distances = [6.0, 4.2, 5.5, 3.0, 2.5]"
      ],
      "metadata": {
        "id": "Mh-70_DS7-np"
      },
      "execution_count": 42,
      "outputs": []
    },
    {
      "cell_type": "code",
      "source": [
        "safety_distance = 5.0 # 안전거리 임계값\n",
        "i = 1\n",
        "for distance in front_distances:\n",
        "    if distance < safety_distance:\n",
        "        print(f\"{i}번 거리: {distance}m → ⚠️ 충돌 위험\")\n",
        "    else:\n",
        "        print(f\"{i}번 거리: {distance}m → ✅ 안전\")\n",
        "    i += 1"
      ],
      "metadata": {
        "colab": {
          "base_uri": "https://localhost:8080/"
        },
        "id": "eH1qFBBk9SMs",
        "outputId": "d74e4137-7482-4d5b-921e-1a41fb3068ea"
      },
      "execution_count": 61,
      "outputs": [
        {
          "output_type": "stream",
          "name": "stdout",
          "text": [
            "1번 거리: 6.0m → ✅ 안전\n",
            "2번 거리: 4.2m → ⚠️ 충돌 위험\n",
            "3번 거리: 5.5m → ✅ 안전\n",
            "4번 거리: 3.0m → ⚠️ 충돌 위험\n",
            "5번 거리: 2.5m → ⚠️ 충돌 위험\n"
          ]
        }
      ]
    },
    {
      "cell_type": "markdown",
      "source": [
        "**5. 주변 차량과의 거리**"
      ],
      "metadata": {
        "id": "65gyXkCt7_uN"
      }
    },
    {
      "cell_type": "code",
      "source": [
        "# [차량 ID, x좌표, y좌표, 현재 속도]\n",
        "nearby_vehicles = [\n",
        "    [101, 10.2, 5.5, 32.0],       # 차량 3대로 가정\n",
        "    [102, 14.5, 7.1, 28.0],\n",
        "    [103, 8.8, 4.9, 30.5]\n",
        "]"
      ],
      "metadata": {
        "id": "DBigS7vK8JPu"
      },
      "execution_count": 43,
      "outputs": []
    },
    {
      "cell_type": "code",
      "source": [
        "ego_position = [10.0, 5.0]  # 차량 현위치\n",
        "\n",
        "for vehicle in nearby_vehicles:\n",
        "    vehicle_id = vehicle[0]\n",
        "    x = vehicle[1]\n",
        "    y = vehicle[2]\n",
        "    current_speed = vehicle[3]\n",
        "    distance = ((x - ego_position[0])**2 + (y - ego_position[1])**2)**0.5 # 유클리드 거리 계산\n",
        "    print(f\"차량 {vehicle_id}: 거리 = {distance:.2f}m, 속도 = {current_speed}km/h\")"
      ],
      "metadata": {
        "colab": {
          "base_uri": "https://localhost:8080/"
        },
        "id": "0-gHLd3L9TTP",
        "outputId": "2f875f5e-6abb-4818-dc21-9602d93b42a7"
      },
      "execution_count": 65,
      "outputs": [
        {
          "output_type": "stream",
          "name": "stdout",
          "text": [
            "차량 101: 거리 = 0.54m, 속도 = 32.0km/h\n",
            "차량 102: 거리 = 4.97m, 속도 = 28.0km/h\n",
            "차량 103: 거리 = 1.20m, 속도 = 30.5km/h\n"
          ]
        }
      ]
    }
  ]
}