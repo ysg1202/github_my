{
  "nbformat": 4,
  "nbformat_minor": 0,
  "metadata": {
    "colab": {
      "provenance": [],
      "authorship_tag": "ABX9TyPvyI+pAsq1Tjvm2f8uKLeU",
      "include_colab_link": true
    },
    "kernelspec": {
      "name": "python3",
      "display_name": "Python 3"
    },
    "language_info": {
      "name": "python"
    }
  },
  "cells": [
    {
      "cell_type": "markdown",
      "metadata": {
        "id": "view-in-github",
        "colab_type": "text"
      },
      "source": [
        "<a href=\"https://colab.research.google.com/github/ysg1202/github_my/blob/main/0625_python_define_%26_class_Self_Driving.ipynb\" target=\"_parent\"><img src=\"https://colab.research.google.com/assets/colab-badge.svg\" alt=\"Open In Colab\"/></a>"
      ]
    },
    {
      "cell_type": "markdown",
      "source": [
        "**방향 전환**"
      ],
      "metadata": {
        "id": "yJnT9V7-ozth"
      }
    },
    {
      "cell_type": "code",
      "source": [
        "def turn(self, direction):\n",
        "    print(f\"{self.name} {direction} 방향으로 회전 중.\")\n"
      ],
      "metadata": {
        "id": "oN9dGLkRo2An"
      },
      "execution_count": 11,
      "outputs": []
    },
    {
      "cell_type": "markdown",
      "source": [
        "**속도 표시**"
      ],
      "metadata": {
        "id": "ZUjJRaRHo6WA"
      }
    },
    {
      "cell_type": "code",
      "source": [
        "def show_speed(self):\n",
        "    print(f\"{self.name} 현재 속도는 {self.speed}km/h입니다.\")\n"
      ],
      "metadata": {
        "id": "Ptm-fkzqo8Zu"
      },
      "execution_count": 12,
      "outputs": []
    },
    {
      "cell_type": "markdown",
      "source": [
        "**장애물 감지**"
      ],
      "metadata": {
        "id": "VB51NtQTpACm"
      }
    },
    {
      "cell_type": "code",
      "source": [
        "def detect_obstacle(self, distance):\n",
        "    if distance < 10:\n",
        "        print(\"⚠️ 장애물 감지! 정지합니다.\")\n",
        "        self.stop()\n",
        "    else:\n",
        "        print(\"도움말: 도로 이상 없음.\")\n"
      ],
      "metadata": {
        "id": "-ly1B7VepB2R"
      },
      "execution_count": 13,
      "outputs": []
    },
    {
      "cell_type": "markdown",
      "source": [
        "**직진 주행**"
      ],
      "metadata": {
        "id": "SYt5zQ8_qUDo"
      }
    },
    {
      "cell_type": "code",
      "source": [
        "def drive(self):\n",
        "    self.speed += 10\n",
        "    print(f\"{self.name} 주행 중... 속도: {self.speed}km/h\")\n"
      ],
      "metadata": {
        "id": "Un0AVyGGqV4e"
      },
      "execution_count": null,
      "outputs": []
    },
    {
      "cell_type": "markdown",
      "source": [
        "**정지**"
      ],
      "metadata": {
        "id": "7fn_EL7OqYQt"
      }
    },
    {
      "cell_type": "code",
      "source": [
        "def stop(self):\n",
        "    self.speed = 0\n",
        "    print(f\"{self.name} 정지.\")"
      ],
      "metadata": {
        "id": "oKT7glKTqZu0"
      },
      "execution_count": 14,
      "outputs": []
    },
    {
      "cell_type": "markdown",
      "source": [
        "**객체 감지 클래스**"
      ],
      "metadata": {
        "id": "6nLFX48WqqDm"
      }
    },
    {
      "cell_type": "code",
      "source": [
        "class ObjectDetector:\n",
        "    def detect(self, frame):\n",
        "        # 예시: 프레임에서 객체 감지 (가상)\n",
        "        return [(\"car\", 100, 200, 150, 250)]"
      ],
      "metadata": {
        "id": "PhkwHkoKqsoQ"
      },
      "execution_count": 15,
      "outputs": []
    },
    {
      "cell_type": "markdown",
      "source": [
        "**차량 정보 클래스**"
      ],
      "metadata": {
        "id": "u-1ItePBq9BD"
      }
    },
    {
      "cell_type": "code",
      "source": [
        "class Vehicle:\n",
        "    def __init__(self, model, speed=0):\n",
        "        self.model = model\n",
        "        self.speed = speed\n",
        "\n",
        "    def accelerate(self):\n",
        "        self.speed += 10\n",
        "\n",
        "    def stop(self):\n",
        "        self.speed = 0\n"
      ],
      "metadata": {
        "id": "WeI2p_ZBq_jn"
      },
      "execution_count": 16,
      "outputs": []
    },
    {
      "cell_type": "markdown",
      "source": [
        "**센서 입력 처리 클래스**"
      ],
      "metadata": {
        "id": "dArjnsXgrCch"
      }
    },
    {
      "cell_type": "code",
      "source": [
        "class Sensor:\n",
        "    def __init__(self, name):\n",
        "        self.name = name\n",
        "\n",
        "    def read(self):\n",
        "        print(f\"{self.name} 센서 값 읽는 중...\")"
      ],
      "metadata": {
        "id": "yPZ17ZdprFCI"
      },
      "execution_count": 17,
      "outputs": []
    },
    {
      "cell_type": "markdown",
      "source": [
        "**객체 추적 클래스**"
      ],
      "metadata": {
        "id": "K5hmrNnGrIqp"
      }
    },
    {
      "cell_type": "code",
      "source": [
        "class VehicleTracker:\n",
        "    def __init__(self):\n",
        "        self.tracks = {}\n",
        "        self.next_id = 0\n",
        "\n",
        "    def update_tracks(self, detections):\n",
        "        for det in detections:\n",
        "            self.tracks[self.next_id] = det\n",
        "            self.next_id += 1"
      ],
      "metadata": {
        "id": "982jZyM7rLU0"
      },
      "execution_count": 18,
      "outputs": []
    },
    {
      "cell_type": "markdown",
      "source": [
        "**주행 판단 클래스**"
      ],
      "metadata": {
        "id": "6VIUVIx1rNIJ"
      }
    },
    {
      "cell_type": "code",
      "source": [
        "class DrivingController:\n",
        "    def make_decision(self, detections):\n",
        "        if len(detections) > 0:\n",
        "            return \"감속\"\n",
        "        else:\n",
        "            return \"정상 주행\""
      ],
      "metadata": {
        "id": "DrJRflaUrQNY"
      },
      "execution_count": 19,
      "outputs": []
    }
  ]
}